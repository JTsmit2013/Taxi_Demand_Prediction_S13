{
 "cells": [
  {
   "cell_type": "markdown",
   "metadata": {},
   "source": [
    "# Predicting Taxi Orders for Sweet Lift Taxi"
   ]
  },
  {
   "cell_type": "markdown",
   "metadata": {},
   "source": [
    "# Project description\n",
    "\n",
    "Sweet Lift Taxi company has collected historical data on taxi orders at airports. To attract more drivers during peak hours, we need to predict the amount of taxi orders for the next hour. Build a model for such a prediction.\n",
    "\n",
    "The RMSE metric on the test set should not be more than 48.\n",
    "\n",
    "## Project instructions\n",
    "\n",
    "1. Download the data and resample it by one hour.\n",
    "2. Analyze the data.\n",
    "3. Train different models with different hyperparameters. The test sample should be 10% of the initial dataset. \n",
    "4. Test the data using the test sample and provide a conclusion.\n",
    "\n",
    "## Data description\n",
    "\n",
    "The data is stored in file `taxi.csv`. The number of orders is in the '*num_orders*' column."
   ]
  },
  {
   "cell_type": "markdown",
   "metadata": {},
   "source": [
    "## Preparation"
   ]
  },
  {
   "cell_type": "code",
   "execution_count": 2,
   "metadata": {},
   "outputs": [],
   "source": [
    "import pandas as pd\n",
    "import numpy as np\n",
    "import math\n",
    "from sklearn.model_selection import train_test_split\n",
    "from sklearn.linear_model import LinearRegression\n",
    "from sklearn.ensemble import RandomForestRegressor\n",
    "from sklearn.metrics import mean_squared_error\n",
    "from statsmodels.tsa.arima.model import ARIMA\n",
    "from statsmodels.tsa.statespace.sarimax import SARIMAX\n",
    "from statsmodels.tsa.holtwinters import ExponentialSmoothing\n",
    "from pmdarima import auto_arima\n",
    "import matplotlib.pyplot as plt\n",
    "from statsmodels.tsa.seasonal import seasonal_decompose\n",
    "from statsmodels.tsa.stattools import adfuller\n",
    "from pmdarima import auto_arima\n",
    "import itertools\n",
    "import statsmodels.api as sm"
   ]
  },
  {
   "cell_type": "code",
   "execution_count": 3,
   "metadata": {},
   "outputs": [],
   "source": [
    "#importing the csv file\n",
    "taxi = pd.read_csv('/datasets/taxi.csv', index_col=[0], parse_dates=[0])\n",
    "#resampling the data to accumulate over 1 hour periods\n",
    "taxi = taxi.resample('1H').sum()"
   ]
  },
  {
   "cell_type": "code",
   "execution_count": 4,
   "metadata": {},
   "outputs": [
    {
     "name": "stdout",
     "output_type": "stream",
     "text": [
      "<class 'pandas.core.frame.DataFrame'>\n",
      "DatetimeIndex: 4416 entries, 2018-03-01 00:00:00 to 2018-08-31 23:00:00\n",
      "Freq: H\n",
      "Data columns (total 1 columns):\n",
      " #   Column      Non-Null Count  Dtype\n",
      "---  ------      --------------  -----\n",
      " 0   num_orders  4416 non-null   int64\n",
      "dtypes: int64(1)\n",
      "memory usage: 69.0 KB\n"
     ]
    },
    {
     "data": {
      "text/html": [
       "<div>\n",
       "<style scoped>\n",
       "    .dataframe tbody tr th:only-of-type {\n",
       "        vertical-align: middle;\n",
       "    }\n",
       "\n",
       "    .dataframe tbody tr th {\n",
       "        vertical-align: top;\n",
       "    }\n",
       "\n",
       "    .dataframe thead th {\n",
       "        text-align: right;\n",
       "    }\n",
       "</style>\n",
       "<table border=\"1\" class=\"dataframe\">\n",
       "  <thead>\n",
       "    <tr style=\"text-align: right;\">\n",
       "      <th></th>\n",
       "      <th>num_orders</th>\n",
       "    </tr>\n",
       "  </thead>\n",
       "  <tbody>\n",
       "    <tr>\n",
       "      <th>count</th>\n",
       "      <td>4416.000000</td>\n",
       "    </tr>\n",
       "    <tr>\n",
       "      <th>mean</th>\n",
       "      <td>84.422781</td>\n",
       "    </tr>\n",
       "    <tr>\n",
       "      <th>std</th>\n",
       "      <td>45.023853</td>\n",
       "    </tr>\n",
       "    <tr>\n",
       "      <th>min</th>\n",
       "      <td>0.000000</td>\n",
       "    </tr>\n",
       "    <tr>\n",
       "      <th>25%</th>\n",
       "      <td>54.000000</td>\n",
       "    </tr>\n",
       "    <tr>\n",
       "      <th>50%</th>\n",
       "      <td>78.000000</td>\n",
       "    </tr>\n",
       "    <tr>\n",
       "      <th>75%</th>\n",
       "      <td>107.000000</td>\n",
       "    </tr>\n",
       "    <tr>\n",
       "      <th>max</th>\n",
       "      <td>462.000000</td>\n",
       "    </tr>\n",
       "  </tbody>\n",
       "</table>\n",
       "</div>"
      ],
      "text/plain": [
       "        num_orders\n",
       "count  4416.000000\n",
       "mean     84.422781\n",
       "std      45.023853\n",
       "min       0.000000\n",
       "25%      54.000000\n",
       "50%      78.000000\n",
       "75%     107.000000\n",
       "max     462.000000"
      ]
     },
     "metadata": {},
     "output_type": "display_data"
    },
    {
     "data": {
      "text/html": [
       "<div>\n",
       "<style scoped>\n",
       "    .dataframe tbody tr th:only-of-type {\n",
       "        vertical-align: middle;\n",
       "    }\n",
       "\n",
       "    .dataframe tbody tr th {\n",
       "        vertical-align: top;\n",
       "    }\n",
       "\n",
       "    .dataframe thead th {\n",
       "        text-align: right;\n",
       "    }\n",
       "</style>\n",
       "<table border=\"1\" class=\"dataframe\">\n",
       "  <thead>\n",
       "    <tr style=\"text-align: right;\">\n",
       "      <th></th>\n",
       "      <th>num_orders</th>\n",
       "    </tr>\n",
       "    <tr>\n",
       "      <th>datetime</th>\n",
       "      <th></th>\n",
       "    </tr>\n",
       "  </thead>\n",
       "  <tbody>\n",
       "    <tr>\n",
       "      <th>2018-03-01 00:00:00</th>\n",
       "      <td>124</td>\n",
       "    </tr>\n",
       "    <tr>\n",
       "      <th>2018-03-01 01:00:00</th>\n",
       "      <td>85</td>\n",
       "    </tr>\n",
       "    <tr>\n",
       "      <th>2018-03-01 02:00:00</th>\n",
       "      <td>71</td>\n",
       "    </tr>\n",
       "    <tr>\n",
       "      <th>2018-03-01 03:00:00</th>\n",
       "      <td>66</td>\n",
       "    </tr>\n",
       "    <tr>\n",
       "      <th>2018-03-01 04:00:00</th>\n",
       "      <td>43</td>\n",
       "    </tr>\n",
       "    <tr>\n",
       "      <th>2018-03-01 05:00:00</th>\n",
       "      <td>6</td>\n",
       "    </tr>\n",
       "    <tr>\n",
       "      <th>2018-03-01 06:00:00</th>\n",
       "      <td>12</td>\n",
       "    </tr>\n",
       "    <tr>\n",
       "      <th>2018-03-01 07:00:00</th>\n",
       "      <td>15</td>\n",
       "    </tr>\n",
       "    <tr>\n",
       "      <th>2018-03-01 08:00:00</th>\n",
       "      <td>34</td>\n",
       "    </tr>\n",
       "    <tr>\n",
       "      <th>2018-03-01 09:00:00</th>\n",
       "      <td>69</td>\n",
       "    </tr>\n",
       "    <tr>\n",
       "      <th>2018-03-01 10:00:00</th>\n",
       "      <td>64</td>\n",
       "    </tr>\n",
       "    <tr>\n",
       "      <th>2018-03-01 11:00:00</th>\n",
       "      <td>96</td>\n",
       "    </tr>\n",
       "    <tr>\n",
       "      <th>2018-03-01 12:00:00</th>\n",
       "      <td>30</td>\n",
       "    </tr>\n",
       "    <tr>\n",
       "      <th>2018-03-01 13:00:00</th>\n",
       "      <td>32</td>\n",
       "    </tr>\n",
       "  </tbody>\n",
       "</table>\n",
       "</div>"
      ],
      "text/plain": [
       "                     num_orders\n",
       "datetime                       \n",
       "2018-03-01 00:00:00         124\n",
       "2018-03-01 01:00:00          85\n",
       "2018-03-01 02:00:00          71\n",
       "2018-03-01 03:00:00          66\n",
       "2018-03-01 04:00:00          43\n",
       "2018-03-01 05:00:00           6\n",
       "2018-03-01 06:00:00          12\n",
       "2018-03-01 07:00:00          15\n",
       "2018-03-01 08:00:00          34\n",
       "2018-03-01 09:00:00          69\n",
       "2018-03-01 10:00:00          64\n",
       "2018-03-01 11:00:00          96\n",
       "2018-03-01 12:00:00          30\n",
       "2018-03-01 13:00:00          32"
      ]
     },
     "execution_count": 4,
     "metadata": {},
     "output_type": "execute_result"
    }
   ],
   "source": [
    "taxi.info()\n",
    "display(taxi.describe())\n",
    "taxi.head(14)"
   ]
  },
  {
   "cell_type": "code",
   "execution_count": 5,
   "metadata": {},
   "outputs": [
    {
     "name": "stdout",
     "output_type": "stream",
     "text": [
      "1\n"
     ]
    }
   ],
   "source": [
    "#finding number of times there are 0 \n",
    "print(taxi['num_orders'].value_counts().loc[0])"
   ]
  },
  {
   "cell_type": "markdown",
   "metadata": {},
   "source": [
    "***Take Aways:***\n",
    "- No null values\n",
    "- data is resampled for 1 hour periods\n",
    "- min of 0 and max of 462"
   ]
  },
  {
   "cell_type": "markdown",
   "metadata": {},
   "source": [
    "## Analysis"
   ]
  },
  {
   "cell_type": "code",
   "execution_count": 6,
   "metadata": {},
   "outputs": [
    {
     "data": {
      "image/png": "[encoded data removed]",
      "text/plain": [
       "<Figure size 640x480 with 1 Axes>"
      ]
     },
     "metadata": {},
     "output_type": "display_data"
    }
   ],
   "source": [
    "# Initial view of the data\n",
    "taxi.plot()\n",
    "plt.title(\"Initial View of the Data\")  # Add title here\n",
    "plt.xlabel('Date')\n",
    "plt.ylabel('Number of Orders per Hour')\n",
    "plt.show()"
   ]
  },
  {
   "cell_type": "code",
   "execution_count": 7,
   "metadata": {},
   "outputs": [
    {
     "data": {
      "image/png": "[encoded data removed]",
      "text/plain": [
       "<Figure size 800x800 with 3 Axes>"
      ]
     },
     "metadata": {},
     "output_type": "display_data"
    }
   ],
   "source": [
    "#plotting Trends and seasonality\n",
    "decomposed = seasonal_decompose(taxi)\n",
    "\n",
    "plt.figure(figsize=(8, 8))\n",
    "\n",
    "plt.subplot(311)\n",
    "decomposed.trend.plot(ax=plt.gca())\n",
    "plt.title('Trend')\n",
    "plt.subplot(312)\n",
    "decomposed.seasonal.plot(ax=plt.gca())\n",
    "plt.title('Seasonality')\n",
    "plt.subplot(313)\n",
    "decomposed.resid.plot(ax=plt.gca())\n",
    "plt.title('Residuals')\n",
    "plt.tight_layout()   "
   ]
  },
  {
   "cell_type": "code",
   "execution_count": 8,
   "metadata": {
    "scrolled": true
   },
   "outputs": [
    {
     "data": {
      "image/png": "[encoded data removed]",
      "text/plain": [
       "<Figure size 800x400 with 1 Axes>"
      ]
     },
     "metadata": {},
     "output_type": "display_data"
    }
   ],
   "source": [
    "#PLotting the first 7 days of sesonality to see the data's cyclical pattern\n",
    "plt.figure(figsize=(8, 4))  # Adjust figure size\n",
    "decomposed.seasonal['2018-03-01 00:00:00':'2018-03-08 00:00:00'].plot()  # Filter the seasonal component\n",
    "plt.title('Seasonal Component (First 7 Days of March 2018)')\n",
    "plt.xlabel('Date')\n",
    "plt.ylabel('Seasonal Effect')\n",
    "plt.grid(True)\n",
    "plt.tight_layout()\n",
    "plt.show()"
   ]
  },
  {
   "cell_type": "code",
   "execution_count": 9,
   "metadata": {},
   "outputs": [
    {
     "data": {
      "image/png": "[encoded data removed]",
      "text/plain": [
       "<Figure size 800x400 with 1 Axes>"
      ]
     },
     "metadata": {},
     "output_type": "display_data"
    }
   ],
   "source": [
    "#Plotting one day of seaonality to see the daily repition\n",
    "plt.figure(figsize=(8, 4))  # Adjust figure size\n",
    "decomposed.seasonal['2018-03-01 00:00:00':'2018-03-02 00:00:00'].plot()  # Filter the seasonal component\n",
    "plt.title('Seasonal Component (First Day of March 2018)')\n",
    "plt.xlabel('Date')\n",
    "plt.ylabel('Seasonal Effect')\n",
    "plt.grid(True)\n",
    "plt.tight_layout()\n",
    "plt.show()"
   ]
  },
  {
   "cell_type": "code",
   "execution_count": 10,
   "metadata": {},
   "outputs": [
    {
     "data": {
      "image/png": "[encoded data removed]",
      "text/plain": [
       "<Figure size 1000x600 with 1 Axes>"
      ]
     },
     "metadata": {},
     "output_type": "display_data"
    }
   ],
   "source": [
    "#Calculatint the time series differences\n",
    "# Create a copy of the taxi DataFrame\n",
    "taxi_2 = taxi.copy()\n",
    "\n",
    "# Calculate the differences\n",
    "taxi_2['num_orders_diff'] = taxi_2['num_orders'] - taxi_2['num_orders'].shift()\n",
    "\n",
    "# Add rolling mean and standard deviation columns\n",
    "taxi_2['rolling_mean'] = taxi_2['num_orders_diff'].rolling(15).mean()\n",
    "taxi_2['rolling_std'] = taxi_2['num_orders_diff'].rolling(15).std()\n",
    "\n",
    "# Plot the results\n",
    "taxi_2[['num_orders_diff', 'rolling_mean', 'rolling_std']].plot(figsize=(10, 6), title=\"Time Series Differences and Rolling Statistics\")\n",
    "plt.xlabel('Time')\n",
    "plt.ylabel('Values')\n",
    "plt.show()"
   ]
  },
  {
   "cell_type": "markdown",
   "metadata": {},
   "source": [
    "***Take Aways:***\n",
    "- There is definite seasonality to the data that repeats on a daily basis\n",
    "    - peaking at 0000 and having a low point at 0600.\n",
    "- There is a slight upward trend\n"
   ]
  },
  {
   "cell_type": "markdown",
   "metadata": {},
   "source": [
    "## Training"
   ]
  },
  {
   "cell_type": "code",
   "execution_count": 11,
   "metadata": {},
   "outputs": [],
   "source": [
    "train, test = train_test_split(taxi, shuffle=False, test_size=0.1)"
   ]
  },
  {
   "cell_type": "code",
   "execution_count": 12,
   "metadata": {},
   "outputs": [
    {
     "name": "stdout",
     "output_type": "stream",
     "text": [
      "P-value:  0.0007322730527364293\n"
     ]
    }
   ],
   "source": [
    "# run the adfuller test to check for stationarity\n",
    "df_stationarityTest = adfuller(train, autolag='AIC')\n",
    "print(\"P-value: \", df_stationarityTest[1])"
   ]
  },
  {
   "cell_type": "markdown",
   "metadata": {},
   "source": [
    "### Hyperparameter Tuning"
   ]
  },
  {
   "cell_type": "code",
   "execution_count": 13,
   "metadata": {},
   "outputs": [
    {
     "name": "stdout",
     "output_type": "stream",
     "text": [
      "Performing stepwise search to minimize aic\n",
      " ARIMA(2,1,2)(0,0,0)[0] intercept   : AIC=inf, Time=11.52 sec\n",
      " ARIMA(0,1,0)(0,0,0)[0] intercept   : AIC=39785.522, Time=0.12 sec\n",
      " ARIMA(1,1,0)(0,0,0)[0] intercept   : AIC=39407.923, Time=0.08 sec\n",
      " ARIMA(0,1,1)(0,0,0)[0] intercept   : AIC=39248.315, Time=0.59 sec\n",
      " ARIMA(0,1,0)(0,0,0)[0]             : AIC=39783.522, Time=0.03 sec\n",
      " ARIMA(1,1,1)(0,0,0)[0] intercept   : AIC=inf, Time=1.49 sec\n",
      " ARIMA(0,1,2)(0,0,0)[0] intercept   : AIC=inf, Time=4.67 sec\n",
      " ARIMA(1,1,2)(0,0,0)[0] intercept   : AIC=inf, Time=4.41 sec\n",
      " ARIMA(0,1,1)(0,0,0)[0]             : AIC=39246.314, Time=0.29 sec\n",
      " ARIMA(1,1,1)(0,0,0)[0]             : AIC=inf, Time=0.59 sec\n",
      " ARIMA(0,1,2)(0,0,0)[0]             : AIC=inf, Time=1.41 sec\n",
      " ARIMA(1,1,0)(0,0,0)[0]             : AIC=39405.923, Time=0.10 sec\n",
      " ARIMA(1,1,2)(0,0,0)[0]             : AIC=inf, Time=1.99 sec\n",
      "\n",
      "Best model:  ARIMA(0,1,1)(0,0,0)[0]          \n",
      "Total fit time: 27.301 seconds\n",
      "                               SARIMAX Results                                \n",
      "==============================================================================\n",
      "Dep. Variable:                      y   No. Observations:                 3974\n",
      "Model:               SARIMAX(0, 1, 1)   Log Likelihood              -19621.157\n",
      "Date:                Tue, 10 Dec 2024   AIC                          39246.314\n",
      "Time:                        01:51:37   BIC                          39258.889\n",
      "Sample:                    03-01-2018   HQIC                         39250.773\n",
      "                         - 08-13-2018                                         \n",
      "Covariance Type:                  opg                                         \n",
      "==============================================================================\n",
      "                 coef    std err          z      P>|z|      [0.025      0.975]\n",
      "------------------------------------------------------------------------------\n",
      "ma.L1         -0.4855      0.010    -46.572      0.000      -0.506      -0.465\n",
      "sigma2      1140.5699     20.467     55.727      0.000    1100.455    1180.685\n",
      "===================================================================================\n",
      "Ljung-Box (L1) (Q):                  34.45   Jarque-Bera (JB):               216.06\n",
      "Prob(Q):                              0.00   Prob(JB):                         0.00\n",
      "Heteroskedasticity (H):               1.93   Skew:                             0.09\n",
      "Prob(H) (two-sided):                  0.00   Kurtosis:                         4.13\n",
      "===================================================================================\n",
      "\n",
      "Warnings:\n",
      "[1] Covariance matrix calculated using the outer product of gradients (complex-step).\n"
     ]
    }
   ],
   "source": [
    "# Use auto_arima to find the best ARIMA hyperparameters\n",
    "auto_model = auto_arima(\n",
    "    train, \n",
    "    seasonal=False, \n",
    "    trace=True, \n",
    "    error_action='ignore', \n",
    "    suppress_warnings=True, \n",
    "    stepwise=True\n",
    ")\n",
    "\n",
    "print(auto_model.summary())"
   ]
  },
  {
   "cell_type": "code",
   "execution_count": 14,
   "metadata": {},
   "outputs": [
    {
     "name": "stderr",
     "output_type": "stream",
     "text": [
      "/opt/conda/envs/python3/lib/python3.9/site-packages/statsmodels/tsa/statespace/sarimax.py:978: UserWarning: Non-invertible starting MA parameters found. Using zeros as starting parameters.\n",
      "  warn('Non-invertible starting MA parameters found.'\n",
      "/opt/conda/envs/python3/lib/python3.9/site-packages/statsmodels/tsa/statespace/sarimax.py:966: UserWarning: Non-stationary starting autoregressive parameters found. Using zeros as starting parameters.\n",
      "  warn('Non-stationary starting autoregressive parameters'\n"
     ]
    },
    {
     "name": "stdout",
     "output_type": "stream",
     "text": [
      "Best parameters: (2, 1, 2)\n"
     ]
    }
   ],
   "source": [
    "#additional check to see best parameters\n",
    "\n",
    "p = d = q = range(0, 3)\n",
    "pdq = list(itertools.product(p, d, q))\n",
    "\n",
    "best_aic = float('inf')\n",
    "best_params = None\n",
    "\n",
    "for params in pdq:\n",
    "    try:\n",
    "        model = sm.tsa.ARIMA(train, order=params)\n",
    "        model_fit = model.fit()\n",
    "        if model_fit.aic < best_aic:\n",
    "            best_aic = model_fit.aic\n",
    "            best_params = params\n",
    "    except:\n",
    "        continue\n",
    "\n",
    "print(f\"Best parameters: {best_params}\")\n"
   ]
  },
  {
   "cell_type": "markdown",
   "metadata": {},
   "source": [
    "### Model Training"
   ]
  },
  {
   "cell_type": "code",
   "execution_count": 15,
   "metadata": {},
   "outputs": [
    {
     "name": "stdout",
     "output_type": "stream",
     "text": [
      "MA Model Summary:\n",
      "                               SARIMAX Results                                \n",
      "==============================================================================\n",
      "Dep. Variable:             num_orders   No. Observations:                 3974\n",
      "Model:                 ARIMA(0, 0, 1)   Log Likelihood              -19650.994\n",
      "Date:                Tue, 10 Dec 2024   AIC                          39307.988\n",
      "Time:                        01:52:12   BIC                          39326.850\n",
      "Sample:                    03-01-2018   HQIC                         39314.676\n",
      "                         - 08-13-2018                                         \n",
      "Covariance Type:                  opg                                         \n",
      "==============================================================================\n",
      "                 coef    std err          z      P>|z|      [0.025      0.975]\n",
      "------------------------------------------------------------------------------\n",
      "const         78.2958      0.857     91.387      0.000      76.617      79.975\n",
      "ma.L1          0.4256      0.012     35.914      0.000       0.402       0.449\n",
      "sigma2      1155.0009     19.733     58.531      0.000    1116.325    1193.677\n",
      "===================================================================================\n",
      "Ljung-Box (L1) (Q):                  70.49   Jarque-Bera (JB):              1583.29\n",
      "Prob(Q):                              0.00   Prob(JB):                         0.00\n",
      "Heteroskedasticity (H):               1.70   Skew:                             0.93\n",
      "Prob(H) (two-sided):                  0.00   Kurtosis:                         5.47\n",
      "===================================================================================\n",
      "\n",
      "Warnings:\n",
      "[1] Covariance matrix calculated using the outer product of gradients (complex-step).\n",
      "ARMA Model Summary:\n",
      "                               SARIMAX Results                                \n",
      "==============================================================================\n",
      "Dep. Variable:             num_orders   No. Observations:                 3974\n",
      "Model:                 ARIMA(2, 1, 2)   Log Likelihood              -19237.522\n",
      "Date:                Tue, 10 Dec 2024   AIC                          38485.043\n",
      "Time:                        01:52:18   BIC                          38516.480\n",
      "Sample:                    03-01-2018   HQIC                         38496.191\n",
      "                         - 08-13-2018                                         \n",
      "Covariance Type:                  opg                                         \n",
      "==============================================================================\n",
      "                 coef    std err          z      P>|z|      [0.025      0.975]\n",
      "------------------------------------------------------------------------------\n",
      "ar.L1         -0.5439      0.012    -46.007      0.000      -0.567      -0.521\n",
      "ar.L2          0.4559      0.012     38.597      0.000       0.433       0.479\n",
      "ma.L1          0.0040      0.002      1.703      0.089      -0.001       0.009\n",
      "ma.L2         -0.9919      0.002   -432.613      0.000      -0.996      -0.987\n",
      "sigma2       939.2576     15.868     59.191      0.000     908.156     970.359\n",
      "===================================================================================\n",
      "Ljung-Box (L1) (Q):                   0.48   Jarque-Bera (JB):               945.91\n",
      "Prob(Q):                              0.49   Prob(JB):                         0.00\n",
      "Heteroskedasticity (H):               1.80   Skew:                             0.59\n",
      "Prob(H) (two-sided):                  0.00   Kurtosis:                         5.08\n",
      "===================================================================================\n",
      "\n",
      "Warnings:\n",
      "[1] Covariance matrix calculated using the outer product of gradients (complex-step).\n",
      "ARIMA Model Summary:\n",
      "                               SARIMAX Results                                \n",
      "==============================================================================\n",
      "Dep. Variable:             num_orders   No. Observations:                 3974\n",
      "Model:                 ARIMA(0, 1, 1)   Log Likelihood              -19621.157\n",
      "Date:                Tue, 10 Dec 2024   AIC                          39246.314\n",
      "Time:                        01:52:18   BIC                          39258.889\n",
      "Sample:                    03-01-2018   HQIC                         39250.773\n",
      "                         - 08-13-2018                                         \n",
      "Covariance Type:                  opg                                         \n",
      "==============================================================================\n",
      "                 coef    std err          z      P>|z|      [0.025      0.975]\n",
      "------------------------------------------------------------------------------\n",
      "ma.L1         -0.4855      0.010    -46.572      0.000      -0.506      -0.465\n",
      "sigma2      1140.5699     20.467     55.727      0.000    1100.455    1180.685\n",
      "===================================================================================\n",
      "Ljung-Box (L1) (Q):                  34.45   Jarque-Bera (JB):               216.06\n",
      "Prob(Q):                              0.00   Prob(JB):                         0.00\n",
      "Heteroskedasticity (H):               1.93   Skew:                             0.09\n",
      "Prob(H) (two-sided):                  0.00   Kurtosis:                         4.13\n",
      "===================================================================================\n",
      "\n",
      "Warnings:\n",
      "[1] Covariance matrix calculated using the outer product of gradients (complex-step).\n"
     ]
    }
   ],
   "source": [
    "# MA Model\n",
    "model_ma = ARIMA(train, order=(0, 0, 1))  # Moving Average\n",
    "model_ma_fit = model_ma.fit()\n",
    "print(\"MA Model Summary:\")\n",
    "print(model_ma_fit.summary())\n",
    "\n",
    "# ARMA Model\n",
    "model_arma = ARIMA(train, order=(2, 1, 2))  # ARMA Model\n",
    "model_arma_fit = model_arma.fit()\n",
    "print(\"ARMA Model Summary:\")\n",
    "print(model_arma_fit.summary())\n",
    "\n",
    "# ARIMA Model with auto-selected hyperparameters\n",
    "best_order = auto_model.order  # Extract the best order from auto_arima\n",
    "model_arima = ARIMA(train, order=best_order)\n",
    "model_arima_fit = model_arima.fit()\n",
    "print(\"ARIMA Model Summary:\")\n",
    "print(model_arima_fit.summary())"
   ]
  },
  {
   "cell_type": "markdown",
   "metadata": {},
   "source": [
    "### Evaluating MA, ARMA, and ARIMA Models"
   ]
  },
  {
   "cell_type": "code",
   "execution_count": 16,
   "metadata": {},
   "outputs": [
    {
     "name": "stdout",
     "output_type": "stream",
     "text": [
      "MA Model RMSE: 84.73\n"
     ]
    },
    {
     "data": {
      "image/png": "[encoded data removed]",
      "text/plain": [
       "<Figure size 640x480 with 1 Axes>"
      ]
     },
     "metadata": {},
     "output_type": "display_data"
    },
    {
     "name": "stdout",
     "output_type": "stream",
     "text": [
      "ARMA Model RMSE: 64.27\n"
     ]
    },
    {
     "data": {
      "image/png": "[encoded data removed]",
      "text/plain": [
       "<Figure size 640x480 with 1 Axes>"
      ]
     },
     "metadata": {},
     "output_type": "display_data"
    },
    {
     "name": "stdout",
     "output_type": "stream",
     "text": [
      "ARIMA Model RMSE: 62.77\n"
     ]
    },
    {
     "data": {
      "image/png": "[encoded data removed]",
      "text/plain": [
       "<Figure size 640x480 with 1 Axes>"
      ]
     },
     "metadata": {},
     "output_type": "display_data"
    }
   ],
   "source": [
    "# Define a function to evaluate and plot predictions\n",
    "def evaluate_model(model_fit, test_data, model_name):\n",
    "    predictions = model_fit.predict(start=len(train), end=len(train) + len(test_data) - 1)\n",
    "    rmse = math.sqrt(mean_squared_error(test_data, predictions))\n",
    "    print(f\"{model_name} RMSE: {rmse:.2f}\")\n",
    "    plt.plot(test_data, label='True')\n",
    "    plt.plot(predictions, label=f'{model_name} Predictions')\n",
    "    plt.title(f\"{model_name} Predictions vs True\")\n",
    "    plt.xlabel('Date')\n",
    "    plt.ylabel('Number of Orders')\n",
    "    plt.xticks(rotation=45)\n",
    "    plt.legend()\n",
    "    plt.show()\n",
    "\n",
    "# Evaluate MA, ARMA, and ARIMA models\n",
    "evaluate_model(model_ma_fit, test, \"MA Model\")\n",
    "evaluate_model(model_arma_fit, test, \"ARMA Model\")\n",
    "evaluate_model(model_arima_fit, test, \"ARIMA Model\")"
   ]
  },
  {
   "cell_type": "markdown",
   "metadata": {},
   "source": [
    "### SARIMA Models"
   ]
  },
  {
   "cell_type": "code",
   "execution_count": 17,
   "metadata": {},
   "outputs": [
    {
     "name": "stdout",
     "output_type": "stream",
     "text": [
      "RUNNING THE L-BFGS-B CODE\n",
      "\n",
      "           * * *\n",
      "\n",
      "Machine precision = 2.220D-16\n",
      " N =            5     M =           10\n",
      "\n",
      "At X0         0 variables are exactly at the bounds\n",
      "\n",
      "At iterate    0    f=  4.65123D+00    |proj g|=  7.64820D-02\n"
     ]
    },
    {
     "name": "stderr",
     "output_type": "stream",
     "text": [
      " This problem is unconstrained.\n"
     ]
    },
    {
     "name": "stdout",
     "output_type": "stream",
     "text": [
      "\n",
      "At iterate    5    f=  4.58621D+00    |proj g|=  3.57876D-02\n",
      "\n",
      "At iterate   10    f=  4.49436D+00    |proj g|=  1.45487D-02\n",
      "\n",
      "At iterate   15    f=  4.49187D+00    |proj g|=  1.07787D-03\n",
      "\n",
      "At iterate   20    f=  4.48910D+00    |proj g|=  3.10354D-02\n",
      "\n",
      "At iterate   25    f=  4.48790D+00    |proj g|=  2.05646D-04\n",
      "\n",
      "           * * *\n",
      "\n",
      "Tit   = total number of iterations\n",
      "Tnf   = total number of function evaluations\n",
      "Tnint = total number of segments explored during Cauchy searches\n",
      "Skip  = number of BFGS updates skipped\n",
      "Nact  = number of active bounds at final generalized Cauchy point\n",
      "Projg = norm of the final projected gradient\n",
      "F     = final function value\n",
      "\n",
      "           * * *\n",
      "\n",
      "   N    Tit     Tnf  Tnint  Skip  Nact     Projg        F\n",
      "    5     27     39      1     0     0   6.302D-06   4.488D+00\n",
      "  F =   4.4878982866933796     \n",
      "\n",
      "CONVERGENCE: NORM_OF_PROJECTED_GRADIENT_<=_PGTOL            \n"
     ]
    }
   ],
   "source": [
    "# Train SARIMA model\n",
    "model_sarima = SARIMAX(train, order=(1, 1, 1), seasonal_order=(1, 1, 1, 24))  # Hourly seasonality\n",
    "model_sarima_fit = model_sarima.fit()"
   ]
  },
  {
   "cell_type": "code",
   "execution_count": 18,
   "metadata": {},
   "outputs": [
    {
     "name": "stderr",
     "output_type": "stream",
     "text": [
      "/opt/conda/envs/python3/lib/python3.9/site-packages/statsmodels/tsa/statespace/sarimax.py:966: UserWarning: Non-stationary starting autoregressive parameters found. Using zeros as starting parameters.\n",
      "  warn('Non-stationary starting autoregressive parameters'\n",
      "/opt/conda/envs/python3/lib/python3.9/site-packages/statsmodels/tsa/statespace/sarimax.py:978: UserWarning: Non-invertible starting MA parameters found. Using zeros as starting parameters.\n",
      "  warn('Non-invertible starting MA parameters found.'\n",
      " This problem is unconstrained.\n"
     ]
    },
    {
     "name": "stdout",
     "output_type": "stream",
     "text": [
      "RUNNING THE L-BFGS-B CODE\n",
      "\n",
      "           * * *\n",
      "\n",
      "Machine precision = 2.220D-16\n",
      " N =            7     M =           10\n",
      "\n",
      "At X0         0 variables are exactly at the bounds\n",
      "\n",
      "At iterate    0    f=  4.82882D+00    |proj g|=  4.80761D-01\n",
      "\n",
      "At iterate    5    f=  4.58486D+00    |proj g|=  2.43331D-02\n",
      "\n",
      "At iterate   10    f=  4.55648D+00    |proj g|=  2.90304D-02\n",
      "\n",
      "At iterate   15    f=  4.49487D+00    |proj g|=  4.55934D-02\n",
      "\n",
      "At iterate   20    f=  4.49201D+00    |proj g|=  5.11846D-03\n",
      "\n",
      "At iterate   25    f=  4.48822D+00    |proj g|=  1.90451D-02\n",
      "\n",
      "At iterate   30    f=  4.48780D+00    |proj g|=  1.15587D-03\n",
      "\n",
      "At iterate   35    f=  4.48780D+00    |proj g|=  1.47936D-04\n",
      "\n",
      "At iterate   40    f=  4.48778D+00    |proj g|=  2.93934D-03\n",
      "\n",
      "At iterate   45    f=  4.48762D+00    |proj g|=  2.37802D-03\n",
      "\n",
      "At iterate   50    f=  4.48736D+00    |proj g|=  6.58460D-03\n",
      "\n",
      "           * * *\n",
      "\n",
      "Tit   = total number of iterations\n",
      "Tnf   = total number of function evaluations\n",
      "Tnint = total number of segments explored during Cauchy searches\n",
      "Skip  = number of BFGS updates skipped\n",
      "Nact  = number of active bounds at final generalized Cauchy point\n",
      "Projg = norm of the final projected gradient\n",
      "F     = final function value\n",
      "\n",
      "           * * *\n",
      "\n",
      "   N    Tit     Tnf  Tnint  Skip  Nact     Projg        F\n",
      "    7     50     61      1     0     0   6.585D-03   4.487D+00\n",
      "  F =   4.4873605193161641     \n",
      "\n",
      "STOP: TOTAL NO. of ITERATIONS REACHED LIMIT                 \n"
     ]
    },
    {
     "name": "stderr",
     "output_type": "stream",
     "text": [
      "/opt/conda/envs/python3/lib/python3.9/site-packages/statsmodels/base/model.py:604: ConvergenceWarning: Maximum Likelihood optimization failed to converge. Check mle_retvals\n",
      "  warnings.warn(\"Maximum Likelihood optimization failed to \"\n"
     ]
    }
   ],
   "source": [
    "# Train SARIMA model with tuning\n",
    "model_sarima_tuned = SARIMAX(train, order=(2, 1, 2), seasonal_order=(1, 1, 1, 24))  # Hourly seasonality\n",
    "model_sarima_fit_tuned = model_sarima_tuned.fit()"
   ]
  },
  {
   "cell_type": "code",
   "execution_count": 19,
   "metadata": {},
   "outputs": [],
   "source": [
    "# Train Exponential Smoothing model\n",
    "model_exp = ExponentialSmoothing(train, trend='add', seasonal='add', seasonal_periods=24)  # Hourly seasonality\n",
    "model_exp_fit = model_exp.fit()"
   ]
  },
  {
   "cell_type": "code",
   "execution_count": 20,
   "metadata": {},
   "outputs": [],
   "source": [
    "# Make predictions\n",
    "pred_ma = model_ma_fit.predict(start=len(train), end=len(train)+len(test)-1)\n",
    "pred_arma = model_arma_fit.predict(start=len(train), end=len(train)+len(test)-1)\n",
    "pred_arima = model_arima_fit.predict(start=len(train), end=len(train)+len(test)-1)\n",
    "pred_sarima = model_sarima_fit.predict(start=len(train), end=len(train)+len(test)-1)\n",
    "pred_sarima_tuned = model_sarima_fit_tuned.predict(start=len(train), end=len(train)+len(test)-1)\n",
    "pred_exp = model_exp_fit.predict(start=len(train), end=len(train)+len(test)-1)"
   ]
  },
  {
   "cell_type": "markdown",
   "metadata": {},
   "source": [
    "### Feature Engineering for AR Model"
   ]
  },
  {
   "cell_type": "code",
   "execution_count": 21,
   "metadata": {},
   "outputs": [],
   "source": [
    "# Feature Engineering for Train Data\n",
    "train_features = train.copy()\n",
    "\n",
    "# Extract time-based features\n",
    "train_features['hour'] = train_features.index.hour\n",
    "train_features['day_of_week'] = train_features.index.dayofweek\n",
    "train_features['month'] = train_features.index.month\n",
    "\n",
    "# Add lag features (past values of the target variable)\n",
    "for lag in range(1, 4):  # Add lags for 1 to 3 previous time steps\n",
    "    train_features[f'lag_{lag}'] = train['num_orders'].shift(lag)\n",
    "\n",
    "# Drop rows with NaN values due to lagging\n",
    "train_features = train_features.dropna()\n",
    "\n",
    "# Separate target and features\n",
    "y_train = train_features['num_orders']  # Target variable\n",
    "X_train = train_features.drop(columns=['num_orders'])  # Features"
   ]
  },
  {
   "cell_type": "markdown",
   "metadata": {},
   "source": [
    "### Train the Enhanced AR Model"
   ]
  },
  {
   "cell_type": "code",
   "execution_count": 22,
   "metadata": {},
   "outputs": [
    {
     "name": "stderr",
     "output_type": "stream",
     "text": [
      " This problem is unconstrained.\n"
     ]
    },
    {
     "name": "stdout",
     "output_type": "stream",
     "text": [
      "RUNNING THE L-BFGS-B CODE\n",
      "\n",
      "           * * *\n",
      "\n",
      "Machine precision = 2.220D-16\n",
      " N =           10     M =           10\n",
      "\n",
      "At X0         0 variables are exactly at the bounds\n",
      "\n",
      "At iterate    0    f=  4.84096D+00    |proj g|=  3.51637D-02\n",
      "\n",
      "At iterate    5    f=  4.83935D+00    |proj g|=  2.69287D-02\n",
      "\n",
      "At iterate   10    f=  4.83867D+00    |proj g|=  4.11265D-03\n",
      "\n",
      "At iterate   15    f=  4.83831D+00    |proj g|=  6.52292D-03\n",
      "\n",
      "At iterate   20    f=  4.83567D+00    |proj g|=  4.55386D-02\n",
      "\n",
      "At iterate   25    f=  4.83162D+00    |proj g|=  1.57726D-02\n",
      "\n",
      "At iterate   30    f=  4.83054D+00    |proj g|=  6.51835D-02\n",
      "\n",
      "At iterate   35    f=  4.82847D+00    |proj g|=  3.78267D-02\n",
      "\n",
      "At iterate   40    f=  4.82332D+00    |proj g|=  8.44639D-02\n",
      "\n",
      "At iterate   45    f=  4.82161D+00    |proj g|=  1.70455D-02\n"
     ]
    },
    {
     "name": "stderr",
     "output_type": "stream",
     "text": [
      "/opt/conda/envs/python3/lib/python3.9/site-packages/statsmodels/base/model.py:604: ConvergenceWarning: Maximum Likelihood optimization failed to converge. Check mle_retvals\n",
      "  warnings.warn(\"Maximum Likelihood optimization failed to \"\n"
     ]
    },
    {
     "name": "stdout",
     "output_type": "stream",
     "text": [
      "\n",
      "At iterate   50    f=  4.82050D+00    |proj g|=  2.89931D-02\n",
      "\n",
      "           * * *\n",
      "\n",
      "Tit   = total number of iterations\n",
      "Tnf   = total number of function evaluations\n",
      "Tnint = total number of segments explored during Cauchy searches\n",
      "Skip  = number of BFGS updates skipped\n",
      "Nact  = number of active bounds at final generalized Cauchy point\n",
      "Projg = norm of the final projected gradient\n",
      "F     = final function value\n",
      "\n",
      "           * * *\n",
      "\n",
      "   N    Tit     Tnf  Tnint  Skip  Nact     Projg        F\n",
      "   10     50     60      1     0     0   2.899D-02   4.820D+00\n",
      "  F =   4.8204990147783633     \n",
      "\n",
      "STOP: TOTAL NO. of ITERATIONS REACHED LIMIT                 \n",
      "                               SARIMAX Results                                \n",
      "==============================================================================\n",
      "Dep. Variable:             num_orders   No. Observations:                 3971\n",
      "Model:               SARIMAX(3, 0, 0)   Log Likelihood              -19142.202\n",
      "Date:                Tue, 10 Dec 2024   AIC                          38304.403\n",
      "Time:                        01:55:16   BIC                          38367.263\n",
      "Sample:                    03-01-2018   HQIC                         38326.695\n",
      "                         - 08-13-2018                                         \n",
      "Covariance Type:                  opg                                         \n",
      "===============================================================================\n",
      "                  coef    std err          z      P>|z|      [0.025      0.975]\n",
      "-------------------------------------------------------------------------------\n",
      "hour            0.3959      0.056      7.060      0.000       0.286       0.506\n",
      "day_of_week     0.1914      0.107      1.785      0.074      -0.019       0.402\n",
      "month           2.5265      0.326      7.754      0.000       1.888       3.165\n",
      "lag_1           1.2759      0.130      9.790      0.000       1.020       1.531\n",
      "lag_2          -0.5789      0.180     -3.222      0.001      -0.931      -0.227\n",
      "lag_3           0.0687      0.078      0.883      0.377      -0.084       0.221\n",
      "ar.L1          -0.8671      0.130     -6.674      0.000      -1.122      -0.612\n",
      "ar.L2          -0.4299      0.103     -4.183      0.000      -0.631      -0.228\n",
      "ar.L3          -0.1518      0.036     -4.209      0.000      -0.222      -0.081\n",
      "sigma2        931.6017     16.131     57.754      0.000     899.986     963.217\n",
      "===================================================================================\n",
      "Ljung-Box (L1) (Q):                   1.18   Jarque-Bera (JB):              1806.95\n",
      "Prob(Q):                              0.28   Prob(JB):                         0.00\n",
      "Heteroskedasticity (H):               2.00   Skew:                             0.81\n",
      "Prob(H) (two-sided):                  0.00   Kurtosis:                         5.88\n",
      "===================================================================================\n",
      "\n",
      "Warnings:\n",
      "[1] Covariance matrix calculated using the outer product of gradients (complex-step).\n"
     ]
    }
   ],
   "source": [
    "# Fit an AR model with exogenous features\n",
    "model_ar = SARIMAX(\n",
    "    y_train, \n",
    "    exog=X_train,  # Pass the exogenous variables\n",
    "    order=(3, 0, 0),  # AR(3) model\n",
    "    enforce_stationarity=False,\n",
    "    enforce_invertibility=False\n",
    ")\n",
    "\n",
    "model_ar_fit = model_ar.fit()\n",
    "\n",
    "# Print the model summary\n",
    "print(model_ar_fit.summary())\n"
   ]
  },
  {
   "cell_type": "markdown",
   "metadata": {},
   "source": [
    "### Feature Engineering for Test Data"
   ]
  },
  {
   "cell_type": "code",
   "execution_count": 23,
   "metadata": {},
   "outputs": [],
   "source": [
    "# Feature engineering for Test Data\n",
    "test_features = test.copy()\n",
    "test_features['hour'] = test_features.index.hour\n",
    "test_features['day_of_week'] = test_features.index.dayofweek\n",
    "test_features['month'] = test_features.index.month\n",
    "\n",
    "# Add lag features (past values of the target variable)\n",
    "for lag in range(1, 4):\n",
    "    test_features[f'lag_{lag}'] = test['num_orders'].shift(lag)\n",
    "\n",
    "# Drop rows with NaN values due to lagging\n",
    "test_features = test_features.dropna()\n",
    "\n",
    "# Separate target and features\n",
    "y_test = test_features['num_orders']  # Target variable\n",
    "X_test = test_features.drop(columns=['num_orders'])  # Features"
   ]
  },
  {
   "cell_type": "markdown",
   "metadata": {},
   "source": [
    "***Take Away:***\n",
    "- Based on the adfuller test there is a high likelyhood that the data is stationary allowing for the use of the ARIMA models\n",
    "- All six models have been trained and predictions were made\n",
    "- As seen in the graphs of the ARIMA predictions, the predictions flatline and thus are not a good model for the data"
   ]
  },
  {
   "cell_type": "markdown",
   "metadata": {},
   "source": [
    "## Testing / RMSE"
   ]
  },
  {
   "cell_type": "code",
   "execution_count": 24,
   "metadata": {},
   "outputs": [],
   "source": [
    "def rmse(test,prediction, model):\n",
    "    # Calculate the mean squared error (MSE)\n",
    "    mse = mean_squared_error(test, prediction)\n",
    "\n",
    "    # Calculate the RMSE\n",
    "    rmse = math.sqrt(mse)\n",
    "\n",
    "    print(f\"RMSE: {model}\", rmse)"
   ]
  },
  {
   "cell_type": "code",
   "execution_count": 25,
   "metadata": {},
   "outputs": [
    {
     "name": "stdout",
     "output_type": "stream",
     "text": [
      "RMSE: Moving Average 84.7333659242237\n",
      "RMSE: ARMA 64.27024912019279\n",
      "RMSE: ARIMA 62.76809456268275\n",
      "RMSE: SARIMA 44.4600827121111\n",
      "RMSE: Tuned SARIMA 44.155689802056536\n",
      "RMSE: Exponential Smoothing 40.39903153177998\n"
     ]
    }
   ],
   "source": [
    "models = {\n",
    "    \"Moving Average\": pred_ma,\n",
    "    \"ARMA\": pred_arma,\n",
    "    \"ARIMA\": pred_arima,\n",
    "    \"SARIMA\": pred_sarima,\n",
    "    \"Tuned SARIMA\": pred_sarima_tuned,\n",
    "    \"Exponential Smoothing\": pred_exp,\n",
    "}\n",
    "\n",
    "# Loop through each model and its corresponding prediction\n",
    "for model_name, prediction in models.items():\n",
    "    rmse(test, prediction, model_name)"
   ]
  },
  {
   "cell_type": "markdown",
   "metadata": {},
   "source": [
    "## Conclusion"
   ]
  },
  {
   "cell_type": "markdown",
   "metadata": {},
   "source": [
    "- Over the 6 different model testing, half of them achieve the 48 or better RMSE value\n",
    "- The best model was Exponential Smoothing followed by the SARIMA models"
   ]
  }
 ],
 "metadata": {
  "ExecuteTimeLog": [
   {
    "duration": 156,
    "start_time": "2024-12-06T08:03:29.059Z"
   },
   {
    "duration": 284,
    "start_time": "2024-12-06T08:03:34.034Z"
   },
   {
    "duration": 22,
    "start_time": "2024-12-06T08:03:35.727Z"
   },
   {
    "duration": 9,
    "start_time": "2024-12-06T08:04:48.636Z"
   },
   {
    "duration": 6,
    "start_time": "2024-12-06T08:05:15.932Z"
   },
   {
    "duration": 6,
    "start_time": "2024-12-06T08:05:21.163Z"
   },
   {
    "duration": 9,
    "start_time": "2024-12-06T08:05:36.723Z"
   },
   {
    "duration": 15,
    "start_time": "2024-12-06T08:05:49.825Z"
   },
   {
    "duration": 6,
    "start_time": "2024-12-06T08:06:37.303Z"
   },
   {
    "duration": 22,
    "start_time": "2024-12-06T08:08:22.960Z"
   },
   {
    "duration": 22,
    "start_time": "2024-12-06T08:08:26.042Z"
   },
   {
    "duration": 6,
    "start_time": "2024-12-06T08:08:38.460Z"
   },
   {
    "duration": 21,
    "start_time": "2024-12-06T08:13:20.035Z"
   },
   {
    "duration": 27,
    "start_time": "2024-12-06T08:13:51.430Z"
   },
   {
    "duration": 14,
    "start_time": "2024-12-06T08:13:55.074Z"
   },
   {
    "duration": 6,
    "start_time": "2024-12-06T08:13:58.144Z"
   },
   {
    "duration": 15,
    "start_time": "2024-12-06T08:14:11.825Z"
   },
   {
    "duration": 17,
    "start_time": "2024-12-06T08:14:23.831Z"
   },
   {
    "duration": 2093,
    "start_time": "2024-12-06T08:17:28.275Z"
   },
   {
    "duration": 465,
    "start_time": "2024-12-06T08:18:02.514Z"
   },
   {
    "duration": 23,
    "start_time": "2024-12-06T08:18:02.981Z"
   },
   {
    "duration": 17,
    "start_time": "2024-12-06T08:18:03.005Z"
   },
   {
    "duration": 191,
    "start_time": "2024-12-06T08:18:03.025Z"
   },
   {
    "duration": 175,
    "start_time": "2024-12-06T08:18:17.682Z"
   },
   {
    "duration": 51,
    "start_time": "2024-12-06T08:24:27.336Z"
   },
   {
    "duration": 22,
    "start_time": "2024-12-06T08:24:30.748Z"
   },
   {
    "duration": 38,
    "start_time": "2024-12-06T08:24:30.772Z"
   },
   {
    "duration": 18,
    "start_time": "2024-12-06T08:24:30.812Z"
   },
   {
    "duration": 177,
    "start_time": "2024-12-06T08:24:30.831Z"
   },
   {
    "duration": 627,
    "start_time": "2024-12-06T08:24:31.011Z"
   },
   {
    "duration": 4,
    "start_time": "2024-12-06T08:24:31.640Z"
   },
   {
    "duration": 375,
    "start_time": "2024-12-06T08:28:19.669Z"
   },
   {
    "duration": 298,
    "start_time": "2024-12-06T08:28:44.143Z"
   },
   {
    "duration": 241,
    "start_time": "2024-12-06T08:29:04.974Z"
   },
   {
    "duration": 217,
    "start_time": "2024-12-06T08:29:10.218Z"
   },
   {
    "duration": 263,
    "start_time": "2024-12-06T08:29:22.651Z"
   },
   {
    "duration": 186,
    "start_time": "2024-12-06T08:29:48.933Z"
   },
   {
    "duration": 247,
    "start_time": "2024-12-06T08:30:02.268Z"
   },
   {
    "duration": 483,
    "start_time": "2024-12-06T08:31:11.306Z"
   },
   {
    "duration": 225,
    "start_time": "2024-12-06T08:31:29.587Z"
   },
   {
    "duration": 245,
    "start_time": "2024-12-06T08:31:46.073Z"
   },
   {
    "duration": 15,
    "start_time": "2024-12-06T08:35:18.251Z"
   },
   {
    "duration": 232,
    "start_time": "2024-12-06T08:35:39.795Z"
   },
   {
    "duration": 3,
    "start_time": "2024-12-06T08:43:05.497Z"
   },
   {
    "duration": 22,
    "start_time": "2024-12-06T08:43:05.535Z"
   },
   {
    "duration": 17,
    "start_time": "2024-12-06T08:43:05.559Z"
   },
   {
    "duration": 181,
    "start_time": "2024-12-06T08:43:05.578Z"
   },
   {
    "duration": 658,
    "start_time": "2024-12-06T08:43:05.760Z"
   },
   {
    "duration": 210,
    "start_time": "2024-12-06T08:43:06.421Z"
   },
   {
    "duration": 281,
    "start_time": "2024-12-06T08:43:06.633Z"
   },
   {
    "duration": 239,
    "start_time": "2024-12-06T08:43:06.915Z"
   },
   {
    "duration": 4,
    "start_time": "2024-12-06T08:43:07.155Z"
   },
   {
    "duration": 28,
    "start_time": "2024-12-06T08:43:07.161Z"
   },
   {
    "duration": 26,
    "start_time": "2024-12-06T08:43:20.485Z"
   },
   {
    "duration": 3,
    "start_time": "2024-12-06T08:43:23.306Z"
   },
   {
    "duration": 22,
    "start_time": "2024-12-06T08:43:23.312Z"
   },
   {
    "duration": 17,
    "start_time": "2024-12-06T08:43:23.335Z"
   },
   {
    "duration": 170,
    "start_time": "2024-12-06T08:43:23.354Z"
   },
   {
    "duration": 671,
    "start_time": "2024-12-06T08:43:23.527Z"
   },
   {
    "duration": 222,
    "start_time": "2024-12-06T08:43:24.200Z"
   },
   {
    "duration": 254,
    "start_time": "2024-12-06T08:43:24.423Z"
   },
   {
    "duration": 233,
    "start_time": "2024-12-06T08:43:24.678Z"
   },
   {
    "duration": 4,
    "start_time": "2024-12-06T08:43:24.913Z"
   },
   {
    "duration": 133,
    "start_time": "2024-12-06T08:43:24.919Z"
   },
   {
    "duration": 3,
    "start_time": "2024-12-06T08:44:04.762Z"
   },
   {
    "duration": 22,
    "start_time": "2024-12-06T08:44:04.767Z"
   },
   {
    "duration": 17,
    "start_time": "2024-12-06T08:44:04.790Z"
   },
   {
    "duration": 182,
    "start_time": "2024-12-06T08:44:04.808Z"
   },
   {
    "duration": 549,
    "start_time": "2024-12-06T08:44:04.992Z"
   },
   {
    "duration": 250,
    "start_time": "2024-12-06T08:44:05.542Z"
   },
   {
    "duration": 226,
    "start_time": "2024-12-06T08:44:05.794Z"
   },
   {
    "duration": 3,
    "start_time": "2024-12-06T08:44:06.021Z"
   },
   {
    "duration": 3,
    "start_time": "2024-12-06T08:44:06.026Z"
   },
   {
    "duration": 354,
    "start_time": "2024-12-06T08:44:06.032Z"
   },
   {
    "duration": 150,
    "start_time": "2024-12-06T08:47:16.527Z"
   },
   {
    "duration": 21,
    "start_time": "2024-12-06T08:47:16.679Z"
   },
   {
    "duration": 16,
    "start_time": "2024-12-06T08:47:16.702Z"
   },
   {
    "duration": 208,
    "start_time": "2024-12-06T08:47:16.720Z"
   },
   {
    "duration": 566,
    "start_time": "2024-12-06T08:47:16.930Z"
   },
   {
    "duration": 222,
    "start_time": "2024-12-06T08:47:17.498Z"
   },
   {
    "duration": 250,
    "start_time": "2024-12-06T08:47:17.722Z"
   },
   {
    "duration": 2,
    "start_time": "2024-12-06T08:47:17.974Z"
   },
   {
    "duration": 4,
    "start_time": "2024-12-06T08:47:17.978Z"
   },
   {
    "duration": 389,
    "start_time": "2024-12-06T08:47:17.985Z"
   },
   {
    "duration": 434,
    "start_time": "2024-12-06T08:47:18.376Z"
   },
   {
    "duration": 3,
    "start_time": "2024-12-06T08:50:41.184Z"
   },
   {
    "duration": 22,
    "start_time": "2024-12-06T08:50:41.190Z"
   },
   {
    "duration": 17,
    "start_time": "2024-12-06T08:50:41.214Z"
   },
   {
    "duration": 180,
    "start_time": "2024-12-06T08:50:41.233Z"
   },
   {
    "duration": 568,
    "start_time": "2024-12-06T08:50:41.416Z"
   },
   {
    "duration": 235,
    "start_time": "2024-12-06T08:50:41.986Z"
   },
   {
    "duration": 212,
    "start_time": "2024-12-06T08:50:42.223Z"
   },
   {
    "duration": 3,
    "start_time": "2024-12-06T08:50:42.470Z"
   },
   {
    "duration": 4,
    "start_time": "2024-12-06T08:50:42.475Z"
   },
   {
    "duration": 393,
    "start_time": "2024-12-06T08:50:42.482Z"
   },
   {
    "duration": 438,
    "start_time": "2024-12-06T08:50:42.877Z"
   },
   {
    "duration": 301,
    "start_time": "2024-12-06T08:51:06.109Z"
   },
   {
    "duration": 3206,
    "start_time": "2024-12-06T08:51:16.085Z"
   },
   {
    "duration": 409,
    "start_time": "2024-12-06T08:53:24.897Z"
   },
   {
    "duration": 165,
    "start_time": "2024-12-07T03:07:03.301Z"
   },
   {
    "duration": 2804,
    "start_time": "2024-12-07T03:07:09.223Z"
   },
   {
    "duration": 38,
    "start_time": "2024-12-07T03:07:12.030Z"
   },
   {
    "duration": 21,
    "start_time": "2024-12-07T03:07:12.070Z"
   },
   {
    "duration": 196,
    "start_time": "2024-12-07T03:07:12.093Z"
   },
   {
    "duration": 578,
    "start_time": "2024-12-07T03:07:12.293Z"
   },
   {
    "duration": 325,
    "start_time": "2024-12-07T03:07:12.873Z"
   },
   {
    "duration": 242,
    "start_time": "2024-12-07T03:07:13.200Z"
   },
   {
    "duration": 238,
    "start_time": "2024-12-07T03:07:13.444Z"
   },
   {
    "duration": 4,
    "start_time": "2024-12-07T03:07:13.687Z"
   },
   {
    "duration": 214,
    "start_time": "2024-12-07T03:07:13.694Z"
   },
   {
    "duration": 0,
    "start_time": "2024-12-07T03:07:13.910Z"
   },
   {
    "duration": 15,
    "start_time": "2024-12-07T03:07:44.052Z"
   },
   {
    "duration": 328,
    "start_time": "2024-12-07T03:08:10.982Z"
   },
   {
    "duration": 237,
    "start_time": "2024-12-07T03:08:36.268Z"
   },
   {
    "duration": 3,
    "start_time": "2024-12-07T03:08:45.990Z"
   },
   {
    "duration": 24,
    "start_time": "2024-12-07T03:08:45.995Z"
   },
   {
    "duration": 17,
    "start_time": "2024-12-07T03:08:46.021Z"
   },
   {
    "duration": 191,
    "start_time": "2024-12-07T03:08:46.040Z"
   },
   {
    "duration": 556,
    "start_time": "2024-12-07T03:08:46.234Z"
   },
   {
    "duration": 245,
    "start_time": "2024-12-07T03:08:46.792Z"
   },
   {
    "duration": 249,
    "start_time": "2024-12-07T03:08:47.039Z"
   },
   {
    "duration": 302,
    "start_time": "2024-12-07T03:08:47.291Z"
   },
   {
    "duration": 3,
    "start_time": "2024-12-07T03:08:47.595Z"
   },
   {
    "duration": 31,
    "start_time": "2024-12-07T03:08:47.600Z"
   },
   {
    "duration": 0,
    "start_time": "2024-12-07T03:08:47.633Z"
   },
   {
    "duration": 3,
    "start_time": "2024-12-07T03:09:40.392Z"
   },
   {
    "duration": 21,
    "start_time": "2024-12-07T03:09:40.398Z"
   },
   {
    "duration": 17,
    "start_time": "2024-12-07T03:09:40.421Z"
   },
   {
    "duration": 188,
    "start_time": "2024-12-07T03:09:40.439Z"
   },
   {
    "duration": 548,
    "start_time": "2024-12-07T03:09:40.630Z"
   },
   {
    "duration": 246,
    "start_time": "2024-12-07T03:09:41.179Z"
   },
   {
    "duration": 221,
    "start_time": "2024-12-07T03:09:41.427Z"
   },
   {
    "duration": 242,
    "start_time": "2024-12-07T03:09:41.650Z"
   },
   {
    "duration": 4,
    "start_time": "2024-12-07T03:09:41.894Z"
   },
   {
    "duration": 31,
    "start_time": "2024-12-07T03:09:41.901Z"
   },
   {
    "duration": 0,
    "start_time": "2024-12-07T03:09:41.934Z"
   },
   {
    "duration": 2,
    "start_time": "2024-12-07T03:11:02.222Z"
   },
   {
    "duration": 33,
    "start_time": "2024-12-07T03:11:04.615Z"
   },
   {
    "duration": 437,
    "start_time": "2024-12-07T03:11:27.400Z"
   },
   {
    "duration": 4,
    "start_time": "2024-12-07T03:11:44.218Z"
   },
   {
    "duration": 10,
    "start_time": "2024-12-07T03:11:53.453Z"
   },
   {
    "duration": 3,
    "start_time": "2024-12-07T03:11:59.571Z"
   },
   {
    "duration": 22,
    "start_time": "2024-12-07T03:11:59.629Z"
   },
   {
    "duration": 17,
    "start_time": "2024-12-07T03:11:59.654Z"
   },
   {
    "duration": 174,
    "start_time": "2024-12-07T03:11:59.673Z"
   },
   {
    "duration": 670,
    "start_time": "2024-12-07T03:11:59.849Z"
   },
   {
    "duration": 212,
    "start_time": "2024-12-07T03:12:00.522Z"
   },
   {
    "duration": 254,
    "start_time": "2024-12-07T03:12:00.736Z"
   },
   {
    "duration": 4,
    "start_time": "2024-12-07T03:12:00.991Z"
   },
   {
    "duration": 6,
    "start_time": "2024-12-07T03:12:00.997Z"
   },
   {
    "duration": 10,
    "start_time": "2024-12-07T03:12:01.005Z"
   },
   {
    "duration": 387,
    "start_time": "2024-12-07T03:12:01.017Z"
   },
   {
    "duration": 586,
    "start_time": "2024-12-07T03:12:01.408Z"
   },
   {
    "duration": 252,
    "start_time": "2024-12-07T03:13:20.640Z"
   },
   {
    "duration": 3,
    "start_time": "2024-12-07T03:13:39.683Z"
   },
   {
    "duration": 23,
    "start_time": "2024-12-07T03:13:39.689Z"
   },
   {
    "duration": 18,
    "start_time": "2024-12-07T03:13:39.713Z"
   },
   {
    "duration": 193,
    "start_time": "2024-12-07T03:13:39.732Z"
   },
   {
    "duration": 579,
    "start_time": "2024-12-07T03:13:39.928Z"
   },
   {
    "duration": 227,
    "start_time": "2024-12-07T03:13:40.508Z"
   },
   {
    "duration": 262,
    "start_time": "2024-12-07T03:13:40.738Z"
   },
   {
    "duration": 268,
    "start_time": "2024-12-07T03:13:41.002Z"
   },
   {
    "duration": 4,
    "start_time": "2024-12-07T03:13:41.272Z"
   },
   {
    "duration": 405,
    "start_time": "2024-12-07T03:13:41.286Z"
   },
   {
    "duration": 436,
    "start_time": "2024-12-07T03:13:41.693Z"
   },
   {
    "duration": 455,
    "start_time": "2024-12-07T03:20:42.742Z"
   },
   {
    "duration": 15,
    "start_time": "2024-12-07T03:24:48.341Z"
   },
   {
    "duration": 277,
    "start_time": "2024-12-07T03:24:52.001Z"
   },
   {
    "duration": 25,
    "start_time": "2024-12-07T03:24:52.280Z"
   },
   {
    "duration": 17,
    "start_time": "2024-12-07T03:24:52.306Z"
   },
   {
    "duration": 189,
    "start_time": "2024-12-07T03:24:52.326Z"
   },
   {
    "duration": 515,
    "start_time": "2024-12-07T03:24:52.516Z"
   },
   {
    "duration": 219,
    "start_time": "2024-12-07T03:24:53.033Z"
   },
   {
    "duration": 266,
    "start_time": "2024-12-07T03:24:53.254Z"
   },
   {
    "duration": 265,
    "start_time": "2024-12-07T03:24:53.522Z"
   },
   {
    "duration": 6,
    "start_time": "2024-12-07T03:24:53.789Z"
   },
   {
    "duration": 392,
    "start_time": "2024-12-07T03:24:53.797Z"
   },
   {
    "duration": 508,
    "start_time": "2024-12-07T03:24:54.191Z"
   },
   {
    "duration": 301,
    "start_time": "2024-12-07T03:24:54.702Z"
   },
   {
    "duration": 7,
    "start_time": "2024-12-07T03:25:29.731Z"
   },
   {
    "duration": 234,
    "start_time": "2024-12-07T03:26:51.011Z"
   },
   {
    "duration": 5,
    "start_time": "2024-12-07T03:28:02.766Z"
   },
   {
    "duration": 17,
    "start_time": "2024-12-07T03:28:31.130Z"
   },
   {
    "duration": 6,
    "start_time": "2024-12-07T03:28:44.083Z"
   },
   {
    "duration": 14,
    "start_time": "2024-12-07T03:30:51.434Z"
   },
   {
    "duration": 157,
    "start_time": "2024-12-07T03:31:15.763Z"
   },
   {
    "duration": 65,
    "start_time": "2024-12-07T03:32:35.139Z"
   },
   {
    "duration": 7,
    "start_time": "2024-12-07T03:33:05.240Z"
   },
   {
    "duration": 4,
    "start_time": "2024-12-07T03:33:43.760Z"
   },
   {
    "duration": 4,
    "start_time": "2024-12-07T03:36:09.694Z"
   },
   {
    "duration": 4,
    "start_time": "2024-12-07T03:36:49.591Z"
   },
   {
    "duration": 9,
    "start_time": "2024-12-07T03:37:06.118Z"
   },
   {
    "duration": 3,
    "start_time": "2024-12-07T03:39:45.963Z"
   },
   {
    "duration": 23,
    "start_time": "2024-12-07T03:39:45.969Z"
   },
   {
    "duration": 8,
    "start_time": "2024-12-07T03:39:45.995Z"
   },
   {
    "duration": 6,
    "start_time": "2024-12-07T03:39:46.005Z"
   },
   {
    "duration": 16,
    "start_time": "2024-12-07T03:39:46.014Z"
   },
   {
    "duration": 3,
    "start_time": "2024-12-07T03:39:46.032Z"
   },
   {
    "duration": 201,
    "start_time": "2024-12-07T03:39:46.037Z"
   },
   {
    "duration": 549,
    "start_time": "2024-12-07T03:39:46.240Z"
   },
   {
    "duration": 245,
    "start_time": "2024-12-07T03:39:46.791Z"
   },
   {
    "duration": 265,
    "start_time": "2024-12-07T03:39:47.038Z"
   },
   {
    "duration": 410,
    "start_time": "2024-12-07T03:39:47.307Z"
   },
   {
    "duration": 4,
    "start_time": "2024-12-07T03:39:47.719Z"
   },
   {
    "duration": 285,
    "start_time": "2024-12-07T03:39:47.724Z"
   },
   {
    "duration": 516,
    "start_time": "2024-12-07T03:39:48.011Z"
   },
   {
    "duration": 124,
    "start_time": "2024-12-07T03:39:48.528Z"
   },
   {
    "duration": 166,
    "start_time": "2024-12-07T03:40:13.151Z"
   },
   {
    "duration": 3,
    "start_time": "2024-12-07T03:40:32.414Z"
   },
   {
    "duration": 20,
    "start_time": "2024-12-07T03:40:34.067Z"
   },
   {
    "duration": 7,
    "start_time": "2024-12-07T03:40:37.275Z"
   },
   {
    "duration": 3,
    "start_time": "2024-12-07T03:41:18.080Z"
   },
   {
    "duration": 27,
    "start_time": "2024-12-07T03:41:18.114Z"
   },
   {
    "duration": 8,
    "start_time": "2024-12-07T03:41:18.143Z"
   },
   {
    "duration": 17,
    "start_time": "2024-12-07T03:41:18.153Z"
   },
   {
    "duration": 4,
    "start_time": "2024-12-07T03:41:18.171Z"
   },
   {
    "duration": 162,
    "start_time": "2024-12-07T03:41:18.177Z"
   },
   {
    "duration": 35,
    "start_time": "2024-12-07T03:41:18.341Z"
   },
   {
    "duration": 0,
    "start_time": "2024-12-07T03:41:18.386Z"
   },
   {
    "duration": 0,
    "start_time": "2024-12-07T03:41:18.387Z"
   },
   {
    "duration": 0,
    "start_time": "2024-12-07T03:41:18.388Z"
   },
   {
    "duration": 0,
    "start_time": "2024-12-07T03:41:18.389Z"
   },
   {
    "duration": 0,
    "start_time": "2024-12-07T03:41:18.391Z"
   },
   {
    "duration": 0,
    "start_time": "2024-12-07T03:41:18.392Z"
   },
   {
    "duration": 0,
    "start_time": "2024-12-07T03:41:18.393Z"
   },
   {
    "duration": 3,
    "start_time": "2024-12-07T03:42:02.972Z"
   },
   {
    "duration": 21,
    "start_time": "2024-12-07T03:42:02.977Z"
   },
   {
    "duration": 18,
    "start_time": "2024-12-07T03:42:02.999Z"
   },
   {
    "duration": 4,
    "start_time": "2024-12-07T03:42:03.019Z"
   },
   {
    "duration": 206,
    "start_time": "2024-12-07T03:42:03.026Z"
   },
   {
    "duration": 586,
    "start_time": "2024-12-07T03:42:03.234Z"
   },
   {
    "duration": 220,
    "start_time": "2024-12-07T03:42:03.822Z"
   },
   {
    "duration": 248,
    "start_time": "2024-12-07T03:42:04.043Z"
   },
   {
    "duration": 258,
    "start_time": "2024-12-07T03:42:04.293Z"
   },
   {
    "duration": 4,
    "start_time": "2024-12-07T03:42:04.553Z"
   },
   {
    "duration": 351,
    "start_time": "2024-12-07T03:42:04.559Z"
   },
   {
    "duration": 433,
    "start_time": "2024-12-07T03:42:04.987Z"
   },
   {
    "duration": 305,
    "start_time": "2024-12-07T03:42:05.423Z"
   },
   {
    "duration": 6744,
    "start_time": "2024-12-07T03:45:27.724Z"
   },
   {
    "duration": 0,
    "start_time": "2024-12-07T03:45:34.470Z"
   },
   {
    "duration": 3,
    "start_time": "2024-12-07T03:46:49.855Z"
   },
   {
    "duration": 21,
    "start_time": "2024-12-07T03:46:49.860Z"
   },
   {
    "duration": 16,
    "start_time": "2024-12-07T03:46:49.883Z"
   },
   {
    "duration": 4,
    "start_time": "2024-12-07T03:46:49.900Z"
   },
   {
    "duration": 184,
    "start_time": "2024-12-07T03:46:49.907Z"
   },
   {
    "duration": 536,
    "start_time": "2024-12-07T03:46:50.093Z"
   },
   {
    "duration": 206,
    "start_time": "2024-12-07T03:46:50.632Z"
   },
   {
    "duration": 273,
    "start_time": "2024-12-07T03:46:50.840Z"
   },
   {
    "duration": 261,
    "start_time": "2024-12-07T03:46:51.115Z"
   },
   {
    "duration": 10,
    "start_time": "2024-12-07T03:46:51.378Z"
   },
   {
    "duration": 313,
    "start_time": "2024-12-07T03:46:51.390Z"
   },
   {
    "duration": 500,
    "start_time": "2024-12-07T03:46:51.705Z"
   },
   {
    "duration": 44641,
    "start_time": "2024-12-07T03:46:52.207Z"
   },
   {
    "duration": 76,
    "start_time": "2024-12-07T03:47:36.849Z"
   },
   {
    "duration": 475,
    "start_time": "2024-12-07T03:51:52.326Z"
   },
   {
    "duration": 108955,
    "start_time": "2024-12-07T03:57:19.584Z"
   },
   {
    "duration": 3,
    "start_time": "2024-12-07T04:03:17.272Z"
   },
   {
    "duration": 22,
    "start_time": "2024-12-07T04:03:17.277Z"
   },
   {
    "duration": 17,
    "start_time": "2024-12-07T04:03:17.301Z"
   },
   {
    "duration": 4,
    "start_time": "2024-12-07T04:03:17.320Z"
   },
   {
    "duration": 190,
    "start_time": "2024-12-07T04:03:17.326Z"
   },
   {
    "duration": 535,
    "start_time": "2024-12-07T04:03:17.518Z"
   },
   {
    "duration": 3,
    "start_time": "2024-12-07T04:05:24.027Z"
   },
   {
    "duration": 21,
    "start_time": "2024-12-07T04:05:24.074Z"
   },
   {
    "duration": 17,
    "start_time": "2024-12-07T04:05:24.097Z"
   },
   {
    "duration": 3,
    "start_time": "2024-12-07T04:05:24.116Z"
   },
   {
    "duration": 199,
    "start_time": "2024-12-07T04:05:24.121Z"
   },
   {
    "duration": 536,
    "start_time": "2024-12-07T04:05:24.322Z"
   },
   {
    "duration": 251,
    "start_time": "2024-12-07T04:05:24.860Z"
   },
   {
    "duration": 224,
    "start_time": "2024-12-07T04:05:25.113Z"
   },
   {
    "duration": 259,
    "start_time": "2024-12-07T04:05:25.338Z"
   },
   {
    "duration": 4,
    "start_time": "2024-12-07T04:05:25.599Z"
   },
   {
    "duration": 304,
    "start_time": "2024-12-07T04:05:25.604Z"
   },
   {
    "duration": 426,
    "start_time": "2024-12-07T04:05:25.987Z"
   },
   {
    "duration": 6,
    "start_time": "2024-12-07T04:05:26.415Z"
   },
   {
    "duration": 7900,
    "start_time": "2024-12-07T04:05:26.422Z"
   },
   {
    "duration": 51696,
    "start_time": "2024-12-07T04:05:34.326Z"
   },
   {
    "duration": 103040,
    "start_time": "2024-12-07T04:06:26.024Z"
   },
   {
    "duration": 462,
    "start_time": "2024-12-07T04:08:09.066Z"
   },
   {
    "duration": 6,
    "start_time": "2024-12-07T04:08:09.529Z"
   },
   {
    "duration": 133,
    "start_time": "2024-12-07T04:08:09.536Z"
   },
   {
    "duration": 0,
    "start_time": "2024-12-07T04:08:09.670Z"
   },
   {
    "duration": 0,
    "start_time": "2024-12-07T04:08:09.671Z"
   },
   {
    "duration": 0,
    "start_time": "2024-12-07T04:08:09.673Z"
   },
   {
    "duration": 0,
    "start_time": "2024-12-07T04:08:09.686Z"
   },
   {
    "duration": 0,
    "start_time": "2024-12-07T04:08:09.687Z"
   },
   {
    "duration": 3,
    "start_time": "2024-12-07T04:10:01.524Z"
   },
   {
    "duration": 22,
    "start_time": "2024-12-07T04:10:01.529Z"
   },
   {
    "duration": 16,
    "start_time": "2024-12-07T04:10:01.559Z"
   },
   {
    "duration": 4,
    "start_time": "2024-12-07T04:10:01.577Z"
   },
   {
    "duration": 374,
    "start_time": "2024-12-07T04:10:01.582Z"
   },
   {
    "duration": 570,
    "start_time": "2024-12-07T04:10:01.958Z"
   },
   {
    "duration": 212,
    "start_time": "2024-12-07T04:10:02.531Z"
   },
   {
    "duration": 261,
    "start_time": "2024-12-07T04:10:02.745Z"
   },
   {
    "duration": 291,
    "start_time": "2024-12-07T04:10:03.008Z"
   },
   {
    "duration": 6,
    "start_time": "2024-12-07T04:10:03.301Z"
   },
   {
    "duration": 33,
    "start_time": "2024-12-07T04:10:03.309Z"
   },
   {
    "duration": 0,
    "start_time": "2024-12-07T04:10:03.344Z"
   },
   {
    "duration": 0,
    "start_time": "2024-12-07T04:10:03.345Z"
   },
   {
    "duration": 0,
    "start_time": "2024-12-07T04:10:03.346Z"
   },
   {
    "duration": 0,
    "start_time": "2024-12-07T04:10:03.347Z"
   },
   {
    "duration": 0,
    "start_time": "2024-12-07T04:10:03.348Z"
   },
   {
    "duration": 0,
    "start_time": "2024-12-07T04:10:03.348Z"
   },
   {
    "duration": 0,
    "start_time": "2024-12-07T04:10:03.349Z"
   },
   {
    "duration": 0,
    "start_time": "2024-12-07T04:10:03.350Z"
   },
   {
    "duration": 0,
    "start_time": "2024-12-07T04:10:03.351Z"
   },
   {
    "duration": 0,
    "start_time": "2024-12-07T04:10:03.352Z"
   },
   {
    "duration": 0,
    "start_time": "2024-12-07T04:10:03.353Z"
   },
   {
    "duration": 0,
    "start_time": "2024-12-07T04:10:03.387Z"
   },
   {
    "duration": 0,
    "start_time": "2024-12-07T04:10:03.388Z"
   },
   {
    "duration": 266,
    "start_time": "2024-12-07T04:11:27.229Z"
   },
   {
    "duration": 3,
    "start_time": "2024-12-07T04:11:45.319Z"
   },
   {
    "duration": 22,
    "start_time": "2024-12-07T04:11:45.324Z"
   },
   {
    "duration": 17,
    "start_time": "2024-12-07T04:11:45.347Z"
   },
   {
    "duration": 3,
    "start_time": "2024-12-07T04:11:45.365Z"
   },
   {
    "duration": 170,
    "start_time": "2024-12-07T04:11:45.371Z"
   },
   {
    "duration": 570,
    "start_time": "2024-12-07T04:11:45.543Z"
   },
   {
    "duration": 224,
    "start_time": "2024-12-07T04:11:46.114Z"
   },
   {
    "duration": 198,
    "start_time": "2024-12-07T04:11:46.340Z"
   },
   {
    "duration": 320,
    "start_time": "2024-12-07T04:11:46.540Z"
   },
   {
    "duration": 7,
    "start_time": "2024-12-07T04:11:46.861Z"
   },
   {
    "duration": 619,
    "start_time": "2024-12-07T04:11:46.875Z"
   },
   {
    "duration": 199,
    "start_time": "2024-12-07T04:11:47.495Z"
   },
   {
    "duration": 0,
    "start_time": "2024-12-07T04:11:47.697Z"
   },
   {
    "duration": 0,
    "start_time": "2024-12-07T04:11:47.698Z"
   },
   {
    "duration": 0,
    "start_time": "2024-12-07T04:11:47.699Z"
   },
   {
    "duration": 0,
    "start_time": "2024-12-07T04:11:47.700Z"
   },
   {
    "duration": 0,
    "start_time": "2024-12-07T04:11:47.701Z"
   },
   {
    "duration": 0,
    "start_time": "2024-12-07T04:11:47.702Z"
   },
   {
    "duration": 0,
    "start_time": "2024-12-07T04:11:47.703Z"
   },
   {
    "duration": 0,
    "start_time": "2024-12-07T04:11:47.704Z"
   },
   {
    "duration": 0,
    "start_time": "2024-12-07T04:11:47.705Z"
   },
   {
    "duration": 0,
    "start_time": "2024-12-07T04:11:47.706Z"
   },
   {
    "duration": 0,
    "start_time": "2024-12-07T04:11:47.708Z"
   },
   {
    "duration": 0,
    "start_time": "2024-12-07T04:11:47.712Z"
   },
   {
    "duration": 3,
    "start_time": "2024-12-07T04:13:07.696Z"
   },
   {
    "duration": 22,
    "start_time": "2024-12-07T04:13:07.720Z"
   },
   {
    "duration": 18,
    "start_time": "2024-12-07T04:13:07.744Z"
   },
   {
    "duration": 4,
    "start_time": "2024-12-07T04:13:07.764Z"
   },
   {
    "duration": 183,
    "start_time": "2024-12-07T04:13:07.769Z"
   },
   {
    "duration": 579,
    "start_time": "2024-12-07T04:13:07.955Z"
   },
   {
    "duration": 216,
    "start_time": "2024-12-07T04:13:08.536Z"
   },
   {
    "duration": 281,
    "start_time": "2024-12-07T04:13:08.754Z"
   },
   {
    "duration": 506,
    "start_time": "2024-12-07T04:13:09.037Z"
   },
   {
    "duration": 4,
    "start_time": "2024-12-07T04:13:09.544Z"
   },
   {
    "duration": 52,
    "start_time": "2024-12-07T04:13:09.550Z"
   },
   {
    "duration": 0,
    "start_time": "2024-12-07T04:13:09.604Z"
   },
   {
    "duration": 0,
    "start_time": "2024-12-07T04:13:09.606Z"
   },
   {
    "duration": 0,
    "start_time": "2024-12-07T04:13:09.607Z"
   },
   {
    "duration": 0,
    "start_time": "2024-12-07T04:13:09.608Z"
   },
   {
    "duration": 0,
    "start_time": "2024-12-07T04:13:09.609Z"
   },
   {
    "duration": 0,
    "start_time": "2024-12-07T04:13:09.610Z"
   },
   {
    "duration": 0,
    "start_time": "2024-12-07T04:13:09.611Z"
   },
   {
    "duration": 0,
    "start_time": "2024-12-07T04:13:09.612Z"
   },
   {
    "duration": 1,
    "start_time": "2024-12-07T04:13:09.613Z"
   },
   {
    "duration": 0,
    "start_time": "2024-12-07T04:13:09.615Z"
   },
   {
    "duration": 0,
    "start_time": "2024-12-07T04:13:09.615Z"
   },
   {
    "duration": 0,
    "start_time": "2024-12-07T04:13:09.617Z"
   },
   {
    "duration": 0,
    "start_time": "2024-12-07T04:13:09.618Z"
   },
   {
    "duration": 3,
    "start_time": "2024-12-07T04:13:23.210Z"
   },
   {
    "duration": 21,
    "start_time": "2024-12-07T04:13:23.216Z"
   },
   {
    "duration": 18,
    "start_time": "2024-12-07T04:13:23.238Z"
   },
   {
    "duration": 3,
    "start_time": "2024-12-07T04:13:23.259Z"
   },
   {
    "duration": 188,
    "start_time": "2024-12-07T04:13:23.266Z"
   },
   {
    "duration": 580,
    "start_time": "2024-12-07T04:13:23.456Z"
   },
   {
    "duration": 212,
    "start_time": "2024-12-07T04:13:24.037Z"
   },
   {
    "duration": 279,
    "start_time": "2024-12-07T04:13:24.251Z"
   },
   {
    "duration": 260,
    "start_time": "2024-12-07T04:13:24.533Z"
   },
   {
    "duration": 4,
    "start_time": "2024-12-07T04:13:24.795Z"
   },
   {
    "duration": 304,
    "start_time": "2024-12-07T04:13:24.801Z"
   },
   {
    "duration": 498,
    "start_time": "2024-12-07T04:13:25.107Z"
   },
   {
    "duration": 3,
    "start_time": "2024-12-07T04:13:25.607Z"
   },
   {
    "duration": 5415,
    "start_time": "2024-12-07T04:13:25.613Z"
   },
   {
    "duration": 165,
    "start_time": "2024-12-07T04:17:39.121Z"
   },
   {
    "duration": 1147,
    "start_time": "2024-12-07T04:18:06.384Z"
   },
   {
    "duration": 33,
    "start_time": "2024-12-07T04:18:07.534Z"
   },
   {
    "duration": 22,
    "start_time": "2024-12-07T04:18:07.568Z"
   },
   {
    "duration": 3,
    "start_time": "2024-12-07T04:18:07.592Z"
   },
   {
    "duration": 202,
    "start_time": "2024-12-07T04:18:07.599Z"
   },
   {
    "duration": 133,
    "start_time": "2024-12-07T04:18:07.803Z"
   },
   {
    "duration": 0,
    "start_time": "2024-12-07T04:18:07.938Z"
   },
   {
    "duration": 0,
    "start_time": "2024-12-07T04:18:07.939Z"
   },
   {
    "duration": 0,
    "start_time": "2024-12-07T04:18:07.940Z"
   },
   {
    "duration": 0,
    "start_time": "2024-12-07T04:18:07.941Z"
   },
   {
    "duration": 0,
    "start_time": "2024-12-07T04:18:07.942Z"
   },
   {
    "duration": 3,
    "start_time": "2024-12-07T04:19:22.048Z"
   },
   {
    "duration": 24,
    "start_time": "2024-12-07T04:19:22.054Z"
   },
   {
    "duration": 17,
    "start_time": "2024-12-07T04:19:22.080Z"
   },
   {
    "duration": 3,
    "start_time": "2024-12-07T04:19:22.099Z"
   },
   {
    "duration": 190,
    "start_time": "2024-12-07T04:19:22.105Z"
   },
   {
    "duration": 642,
    "start_time": "2024-12-07T04:19:22.297Z"
   },
   {
    "duration": 215,
    "start_time": "2024-12-07T04:19:22.941Z"
   },
   {
    "duration": 269,
    "start_time": "2024-12-07T04:19:23.159Z"
   },
   {
    "duration": 283,
    "start_time": "2024-12-07T04:19:23.430Z"
   },
   {
    "duration": 5,
    "start_time": "2024-12-07T04:19:23.715Z"
   },
   {
    "duration": 15,
    "start_time": "2024-12-07T04:19:23.721Z"
   },
   {
    "duration": 3,
    "start_time": "2024-12-07T04:19:51.512Z"
   },
   {
    "duration": 22,
    "start_time": "2024-12-07T04:19:51.518Z"
   },
   {
    "duration": 17,
    "start_time": "2024-12-07T04:19:51.541Z"
   },
   {
    "duration": 3,
    "start_time": "2024-12-07T04:19:51.560Z"
   },
   {
    "duration": 192,
    "start_time": "2024-12-07T04:19:51.565Z"
   },
   {
    "duration": 623,
    "start_time": "2024-12-07T04:19:51.759Z"
   },
   {
    "duration": 244,
    "start_time": "2024-12-07T04:19:52.386Z"
   },
   {
    "duration": 226,
    "start_time": "2024-12-07T04:19:52.631Z"
   },
   {
    "duration": 274,
    "start_time": "2024-12-07T04:19:52.859Z"
   },
   {
    "duration": 8,
    "start_time": "2024-12-07T04:19:53.136Z"
   },
   {
    "duration": 539,
    "start_time": "2024-12-07T04:19:53.148Z"
   },
   {
    "duration": 14,
    "start_time": "2024-12-07T04:19:57.489Z"
   },
   {
    "duration": 375,
    "start_time": "2024-12-07T04:20:12.338Z"
   },
   {
    "duration": 5297,
    "start_time": "2024-12-07T04:20:33.517Z"
   },
   {
    "duration": 17,
    "start_time": "2024-12-07T04:20:45.301Z"
   },
   {
    "duration": 16,
    "start_time": "2024-12-07T04:21:01.657Z"
   },
   {
    "duration": 4,
    "start_time": "2024-12-07T04:21:08.489Z"
   },
   {
    "duration": 22,
    "start_time": "2024-12-07T04:21:08.495Z"
   },
   {
    "duration": 16,
    "start_time": "2024-12-07T04:21:08.518Z"
   },
   {
    "duration": 3,
    "start_time": "2024-12-07T04:21:08.536Z"
   },
   {
    "duration": 193,
    "start_time": "2024-12-07T04:21:08.541Z"
   },
   {
    "duration": 627,
    "start_time": "2024-12-07T04:21:08.737Z"
   },
   {
    "duration": 260,
    "start_time": "2024-12-07T04:21:09.366Z"
   },
   {
    "duration": 220,
    "start_time": "2024-12-07T04:21:09.629Z"
   },
   {
    "duration": 277,
    "start_time": "2024-12-07T04:21:09.851Z"
   },
   {
    "duration": 4,
    "start_time": "2024-12-07T04:21:10.131Z"
   },
   {
    "duration": 365,
    "start_time": "2024-12-07T04:21:10.137Z"
   },
   {
    "duration": 5920,
    "start_time": "2024-12-07T04:21:10.506Z"
   },
   {
    "duration": 13921,
    "start_time": "2024-12-07T04:21:34.418Z"
   },
   {
    "duration": 39024,
    "start_time": "2024-12-07T04:21:50.243Z"
   },
   {
    "duration": 4,
    "start_time": "2024-12-07T04:22:32.584Z"
   },
   {
    "duration": 22,
    "start_time": "2024-12-07T04:22:32.590Z"
   },
   {
    "duration": 17,
    "start_time": "2024-12-07T04:22:32.613Z"
   },
   {
    "duration": 3,
    "start_time": "2024-12-07T04:22:32.632Z"
   },
   {
    "duration": 209,
    "start_time": "2024-12-07T04:22:32.637Z"
   },
   {
    "duration": 681,
    "start_time": "2024-12-07T04:22:32.847Z"
   },
   {
    "duration": 216,
    "start_time": "2024-12-07T04:22:33.530Z"
   },
   {
    "duration": 290,
    "start_time": "2024-12-07T04:22:33.748Z"
   },
   {
    "duration": 256,
    "start_time": "2024-12-07T04:22:34.040Z"
   },
   {
    "duration": 4,
    "start_time": "2024-12-07T04:22:34.298Z"
   },
   {
    "duration": 388,
    "start_time": "2024-12-07T04:22:34.304Z"
   },
   {
    "duration": 6411,
    "start_time": "2024-12-07T04:22:34.694Z"
   },
   {
    "duration": 3,
    "start_time": "2024-12-07T04:22:41.108Z"
   },
   {
    "duration": 51545,
    "start_time": "2024-12-07T04:22:41.115Z"
   },
   {
    "duration": 102994,
    "start_time": "2024-12-07T04:23:32.661Z"
   },
   {
    "duration": 472,
    "start_time": "2024-12-07T04:25:15.657Z"
   },
   {
    "duration": 7,
    "start_time": "2024-12-07T04:25:16.130Z"
   },
   {
    "duration": 2,
    "start_time": "2024-12-07T04:25:16.139Z"
   },
   {
    "duration": 252,
    "start_time": "2024-12-07T04:25:16.143Z"
   },
   {
    "duration": 0,
    "start_time": "2024-12-07T04:25:16.397Z"
   },
   {
    "duration": 0,
    "start_time": "2024-12-07T04:25:16.398Z"
   },
   {
    "duration": 0,
    "start_time": "2024-12-07T04:25:16.399Z"
   },
   {
    "duration": 0,
    "start_time": "2024-12-07T04:25:16.400Z"
   },
   {
    "duration": 14,
    "start_time": "2024-12-07T04:26:08.493Z"
   },
   {
    "duration": 13,
    "start_time": "2024-12-07T04:26:15.922Z"
   },
   {
    "duration": 14,
    "start_time": "2024-12-07T04:26:23.442Z"
   },
   {
    "duration": 7,
    "start_time": "2024-12-07T04:26:57.255Z"
   },
   {
    "duration": 2,
    "start_time": "2024-12-07T04:28:18.254Z"
   },
   {
    "duration": 128,
    "start_time": "2024-12-07T04:28:21.593Z"
   },
   {
    "duration": 3,
    "start_time": "2024-12-07T04:28:26.589Z"
   },
   {
    "duration": 11,
    "start_time": "2024-12-07T04:28:31.210Z"
   },
   {
    "duration": 157,
    "start_time": "2024-12-07T08:26:46.611Z"
   },
   {
    "duration": 2819,
    "start_time": "2024-12-07T08:26:51.076Z"
   },
   {
    "duration": 36,
    "start_time": "2024-12-07T08:26:53.897Z"
   },
   {
    "duration": 19,
    "start_time": "2024-12-07T08:26:53.935Z"
   },
   {
    "duration": 3,
    "start_time": "2024-12-07T08:26:53.956Z"
   },
   {
    "duration": 204,
    "start_time": "2024-12-07T08:26:53.961Z"
   },
   {
    "duration": 647,
    "start_time": "2024-12-07T08:26:54.168Z"
   },
   {
    "duration": 251,
    "start_time": "2024-12-07T08:26:54.817Z"
   },
   {
    "duration": 220,
    "start_time": "2024-12-07T08:26:55.070Z"
   },
   {
    "duration": 266,
    "start_time": "2024-12-07T08:26:55.293Z"
   },
   {
    "duration": 3,
    "start_time": "2024-12-07T08:26:55.561Z"
   },
   {
    "duration": 382,
    "start_time": "2024-12-07T08:26:55.566Z"
   },
   {
    "duration": 5124,
    "start_time": "2024-12-07T08:26:55.950Z"
   },
   {
    "duration": 51982,
    "start_time": "2024-12-07T08:27:01.076Z"
   },
   {
    "duration": 102898,
    "start_time": "2024-12-07T08:27:53.062Z"
   },
   {
    "duration": 446,
    "start_time": "2024-12-07T08:29:35.962Z"
   },
   {
    "duration": 132,
    "start_time": "2024-12-07T08:29:36.410Z"
   },
   {
    "duration": 4,
    "start_time": "2024-12-07T08:29:36.544Z"
   },
   {
    "duration": 11,
    "start_time": "2024-12-07T08:29:36.549Z"
   },
   {
    "duration": 196,
    "start_time": "2024-12-07T08:29:36.563Z"
   },
   {
    "duration": 326,
    "start_time": "2024-12-07T08:31:21.841Z"
   },
   {
    "duration": 3,
    "start_time": "2024-12-07T08:33:07.524Z"
   },
   {
    "duration": 22,
    "start_time": "2024-12-07T08:33:07.531Z"
   },
   {
    "duration": 18,
    "start_time": "2024-12-07T08:33:07.555Z"
   },
   {
    "duration": 4,
    "start_time": "2024-12-07T08:33:07.574Z"
   },
   {
    "duration": 199,
    "start_time": "2024-12-07T08:33:07.579Z"
   },
   {
    "duration": 612,
    "start_time": "2024-12-07T08:33:07.781Z"
   },
   {
    "duration": 209,
    "start_time": "2024-12-07T08:33:08.396Z"
   },
   {
    "duration": 265,
    "start_time": "2024-12-07T08:33:08.606Z"
   },
   {
    "duration": 273,
    "start_time": "2024-12-07T08:33:08.873Z"
   },
   {
    "duration": 4,
    "start_time": "2024-12-07T08:33:09.148Z"
   },
   {
    "duration": 393,
    "start_time": "2024-12-07T08:33:09.153Z"
   },
   {
    "duration": 12,
    "start_time": "2024-12-07T08:33:09.547Z"
   },
   {
    "duration": 25790,
    "start_time": "2024-12-07T08:33:09.564Z"
   },
   {
    "duration": 5709,
    "start_time": "2024-12-07T08:33:35.356Z"
   },
   {
    "duration": 1088,
    "start_time": "2024-12-07T08:36:22.613Z"
   },
   {
    "duration": 34,
    "start_time": "2024-12-07T08:36:23.703Z"
   },
   {
    "duration": 19,
    "start_time": "2024-12-07T08:36:23.738Z"
   },
   {
    "duration": 5,
    "start_time": "2024-12-07T08:36:23.759Z"
   },
   {
    "duration": 202,
    "start_time": "2024-12-07T08:36:23.765Z"
   },
   {
    "duration": 638,
    "start_time": "2024-12-07T08:36:23.969Z"
   },
   {
    "duration": 237,
    "start_time": "2024-12-07T08:36:24.608Z"
   },
   {
    "duration": 241,
    "start_time": "2024-12-07T08:36:24.847Z"
   },
   {
    "duration": 275,
    "start_time": "2024-12-07T08:36:25.089Z"
   },
   {
    "duration": 4,
    "start_time": "2024-12-07T08:36:25.366Z"
   },
   {
    "duration": 385,
    "start_time": "2024-12-07T08:36:25.372Z"
   },
   {
    "duration": 84,
    "start_time": "2024-12-07T08:36:25.759Z"
   },
   {
    "duration": 25528,
    "start_time": "2024-12-07T08:36:25.844Z"
   },
   {
    "duration": 4622,
    "start_time": "2024-12-07T08:36:51.445Z"
   },
   {
    "duration": 567,
    "start_time": "2024-12-07T08:36:56.069Z"
   },
   {
    "duration": 51623,
    "start_time": "2024-12-07T08:36:56.638Z"
   },
   {
    "duration": 104645,
    "start_time": "2024-12-07T08:37:48.263Z"
   },
   {
    "duration": 472,
    "start_time": "2024-12-07T08:39:32.910Z"
   },
   {
    "duration": 125,
    "start_time": "2024-12-07T08:39:33.384Z"
   },
   {
    "duration": 3,
    "start_time": "2024-12-07T08:39:33.510Z"
   },
   {
    "duration": 10,
    "start_time": "2024-12-07T08:39:33.515Z"
   },
   {
    "duration": 3,
    "start_time": "2024-12-07T08:40:19.484Z"
   },
   {
    "duration": 22,
    "start_time": "2024-12-07T08:40:19.489Z"
   },
   {
    "duration": 18,
    "start_time": "2024-12-07T08:40:19.512Z"
   },
   {
    "duration": 3,
    "start_time": "2024-12-07T08:40:19.531Z"
   },
   {
    "duration": 179,
    "start_time": "2024-12-07T08:40:19.536Z"
   },
   {
    "duration": 638,
    "start_time": "2024-12-07T08:40:19.716Z"
   },
   {
    "duration": 234,
    "start_time": "2024-12-07T08:40:20.356Z"
   },
   {
    "duration": 258,
    "start_time": "2024-12-07T08:40:20.592Z"
   },
   {
    "duration": 263,
    "start_time": "2024-12-07T08:40:20.852Z"
   },
   {
    "duration": 4,
    "start_time": "2024-12-07T08:40:21.117Z"
   },
   {
    "duration": 339,
    "start_time": "2024-12-07T08:40:21.123Z"
   },
   {
    "duration": 83,
    "start_time": "2024-12-07T08:40:21.465Z"
   },
   {
    "duration": 26708,
    "start_time": "2024-12-07T08:40:21.549Z"
   },
   {
    "duration": 4898,
    "start_time": "2024-12-07T08:40:48.260Z"
   },
   {
    "duration": 574,
    "start_time": "2024-12-07T08:40:53.160Z"
   },
   {
    "duration": 1129,
    "start_time": "2024-12-07T09:37:50.199Z"
   },
   {
    "duration": 30,
    "start_time": "2024-12-07T09:37:51.331Z"
   },
   {
    "duration": 19,
    "start_time": "2024-12-07T09:37:51.362Z"
   },
   {
    "duration": 4,
    "start_time": "2024-12-07T09:37:51.383Z"
   },
   {
    "duration": 214,
    "start_time": "2024-12-07T09:37:51.388Z"
   },
   {
    "duration": 611,
    "start_time": "2024-12-07T09:37:51.604Z"
   },
   {
    "duration": 242,
    "start_time": "2024-12-07T09:37:52.216Z"
   },
   {
    "duration": 226,
    "start_time": "2024-12-07T09:37:52.460Z"
   },
   {
    "duration": 270,
    "start_time": "2024-12-07T09:37:52.688Z"
   },
   {
    "duration": 6,
    "start_time": "2024-12-07T09:37:52.961Z"
   },
   {
    "duration": 389,
    "start_time": "2024-12-07T09:37:52.969Z"
   },
   {
    "duration": 82,
    "start_time": "2024-12-07T09:37:53.363Z"
   },
   {
    "duration": 25420,
    "start_time": "2024-12-07T09:37:53.450Z"
   },
   {
    "duration": 34078,
    "start_time": "2024-12-07T09:38:18.872Z"
   },
   {
    "duration": 5091,
    "start_time": "2024-12-07T09:38:52.952Z"
   },
   {
    "duration": 567,
    "start_time": "2024-12-07T09:38:58.045Z"
   },
   {
    "duration": 52055,
    "start_time": "2024-12-07T09:38:58.614Z"
   },
   {
    "duration": 104705,
    "start_time": "2024-12-07T09:39:50.671Z"
   },
   {
    "duration": 446,
    "start_time": "2024-12-07T09:41:35.378Z"
   },
   {
    "duration": 134,
    "start_time": "2024-12-07T09:41:35.825Z"
   },
   {
    "duration": 2,
    "start_time": "2024-12-07T09:41:35.961Z"
   },
   {
    "duration": 11,
    "start_time": "2024-12-07T09:41:35.965Z"
   },
   {
    "duration": 4,
    "start_time": "2024-12-07T09:47:52.635Z"
   },
   {
    "duration": 24,
    "start_time": "2024-12-07T09:47:52.641Z"
   },
   {
    "duration": 17,
    "start_time": "2024-12-07T09:47:52.667Z"
   },
   {
    "duration": 4,
    "start_time": "2024-12-07T09:47:52.686Z"
   },
   {
    "duration": 205,
    "start_time": "2024-12-07T09:47:52.692Z"
   },
   {
    "duration": 603,
    "start_time": "2024-12-07T09:47:52.899Z"
   },
   {
    "duration": 250,
    "start_time": "2024-12-07T09:47:53.503Z"
   },
   {
    "duration": 237,
    "start_time": "2024-12-07T09:47:53.756Z"
   },
   {
    "duration": 260,
    "start_time": "2024-12-07T09:47:53.995Z"
   },
   {
    "duration": 4,
    "start_time": "2024-12-07T09:47:54.257Z"
   },
   {
    "duration": 303,
    "start_time": "2024-12-07T09:47:54.263Z"
   },
   {
    "duration": 5,
    "start_time": "2024-12-07T09:47:54.643Z"
   },
   {
    "duration": 22704,
    "start_time": "2024-12-07T09:47:54.649Z"
   },
   {
    "duration": 35413,
    "start_time": "2024-12-07T09:48:17.355Z"
   },
   {
    "duration": 5113,
    "start_time": "2024-12-07T09:48:52.771Z"
   },
   {
    "duration": 590,
    "start_time": "2024-12-07T09:48:57.887Z"
   },
   {
    "duration": 774,
    "start_time": "2024-12-07T09:48:58.479Z"
   },
   {
    "duration": 0,
    "start_time": "2024-12-07T09:48:59.255Z"
   },
   {
    "duration": 0,
    "start_time": "2024-12-07T09:48:59.257Z"
   },
   {
    "duration": 0,
    "start_time": "2024-12-07T09:48:59.258Z"
   },
   {
    "duration": 0,
    "start_time": "2024-12-07T09:48:59.259Z"
   },
   {
    "duration": 0,
    "start_time": "2024-12-07T09:48:59.260Z"
   },
   {
    "duration": 0,
    "start_time": "2024-12-07T09:48:59.261Z"
   },
   {
    "duration": 4,
    "start_time": "2024-12-07T09:52:00.537Z"
   },
   {
    "duration": 24,
    "start_time": "2024-12-07T09:52:00.543Z"
   },
   {
    "duration": 16,
    "start_time": "2024-12-07T09:52:00.569Z"
   },
   {
    "duration": 3,
    "start_time": "2024-12-07T09:52:00.587Z"
   },
   {
    "duration": 199,
    "start_time": "2024-12-07T09:52:00.593Z"
   },
   {
    "duration": 584,
    "start_time": "2024-12-07T09:52:00.794Z"
   },
   {
    "duration": 221,
    "start_time": "2024-12-07T09:52:01.380Z"
   },
   {
    "duration": 274,
    "start_time": "2024-12-07T09:52:01.603Z"
   },
   {
    "duration": 266,
    "start_time": "2024-12-07T09:52:01.879Z"
   },
   {
    "duration": 4,
    "start_time": "2024-12-07T09:52:02.147Z"
   },
   {
    "duration": 310,
    "start_time": "2024-12-07T09:52:02.153Z"
   },
   {
    "duration": 25705,
    "start_time": "2024-12-07T09:52:02.465Z"
   },
   {
    "duration": 30214,
    "start_time": "2024-12-07T09:52:28.242Z"
   },
   {
    "duration": 5730,
    "start_time": "2024-12-07T09:52:58.458Z"
   },
   {
    "duration": 647,
    "start_time": "2024-12-07T09:53:04.242Z"
   },
   {
    "duration": 1132,
    "start_time": "2024-12-07T10:01:14.776Z"
   },
   {
    "duration": 33,
    "start_time": "2024-12-07T10:01:15.910Z"
   },
   {
    "duration": 19,
    "start_time": "2024-12-07T10:01:15.945Z"
   },
   {
    "duration": 3,
    "start_time": "2024-12-07T10:01:15.966Z"
   },
   {
    "duration": 207,
    "start_time": "2024-12-07T10:01:15.972Z"
   },
   {
    "duration": 623,
    "start_time": "2024-12-07T10:01:16.180Z"
   },
   {
    "duration": 198,
    "start_time": "2024-12-07T10:01:16.804Z"
   },
   {
    "duration": 283,
    "start_time": "2024-12-07T10:01:17.003Z"
   },
   {
    "duration": 265,
    "start_time": "2024-12-07T10:01:17.287Z"
   },
   {
    "duration": 4,
    "start_time": "2024-12-07T10:01:17.553Z"
   },
   {
    "duration": 388,
    "start_time": "2024-12-07T10:01:17.559Z"
   },
   {
    "duration": 24721,
    "start_time": "2024-12-07T10:01:17.949Z"
   },
   {
    "duration": 29980,
    "start_time": "2024-12-07T10:01:42.672Z"
   },
   {
    "duration": 5109,
    "start_time": "2024-12-07T10:02:12.656Z"
   },
   {
    "duration": 585,
    "start_time": "2024-12-07T10:02:17.767Z"
   },
   {
    "duration": 52154,
    "start_time": "2024-12-07T10:02:18.353Z"
   },
   {
    "duration": 103001,
    "start_time": "2024-12-07T10:03:10.509Z"
   },
   {
    "duration": 479,
    "start_time": "2024-12-07T10:04:53.512Z"
   },
   {
    "duration": 137,
    "start_time": "2024-12-07T10:04:53.992Z"
   },
   {
    "duration": 16,
    "start_time": "2024-12-07T10:04:54.131Z"
   },
   {
    "duration": 21711,
    "start_time": "2024-12-07T10:04:54.149Z"
   },
   {
    "duration": 82,
    "start_time": "2024-12-07T10:05:15.862Z"
   },
   {
    "duration": 3,
    "start_time": "2024-12-07T10:05:15.946Z"
   },
   {
    "duration": 11,
    "start_time": "2024-12-07T10:05:15.951Z"
   },
   {
    "duration": 641,
    "start_time": "2024-12-07T10:05:15.964Z"
   },
   {
    "duration": 52,
    "start_time": "2024-12-07T10:07:28.179Z"
   },
   {
    "duration": 3,
    "start_time": "2024-12-07T10:08:44.071Z"
   },
   {
    "duration": 3,
    "start_time": "2024-12-07T10:09:28.882Z"
   },
   {
    "duration": 52,
    "start_time": "2024-12-07T10:10:18.168Z"
   },
   {
    "duration": 455,
    "start_time": "2024-12-07T10:11:40.493Z"
   },
   {
    "duration": 50,
    "start_time": "2024-12-07T10:13:34.471Z"
   },
   {
    "duration": 51,
    "start_time": "2024-12-07T10:13:41.708Z"
   },
   {
    "duration": 148,
    "start_time": "2024-12-07T10:13:46.301Z"
   },
   {
    "duration": 161,
    "start_time": "2024-12-10T01:50:40.943Z"
   },
   {
    "duration": 2861,
    "start_time": "2024-12-10T01:51:05.614Z"
   },
   {
    "duration": 35,
    "start_time": "2024-12-10T01:51:08.477Z"
   },
   {
    "duration": 20,
    "start_time": "2024-12-10T01:51:08.514Z"
   },
   {
    "duration": 4,
    "start_time": "2024-12-10T01:51:08.535Z"
   },
   {
    "duration": 200,
    "start_time": "2024-12-10T01:51:08.542Z"
   },
   {
    "duration": 602,
    "start_time": "2024-12-10T01:51:08.744Z"
   },
   {
    "duration": 261,
    "start_time": "2024-12-10T01:51:09.348Z"
   },
   {
    "duration": 299,
    "start_time": "2024-12-10T01:51:09.611Z"
   },
   {
    "duration": 258,
    "start_time": "2024-12-10T01:51:09.912Z"
   },
   {
    "duration": 4,
    "start_time": "2024-12-10T01:51:10.172Z"
   },
   {
    "duration": 393,
    "start_time": "2024-12-10T01:51:10.177Z"
   },
   {
    "duration": 27314,
    "start_time": "2024-12-10T01:51:10.574Z"
   },
   {
    "duration": 34600,
    "start_time": "2024-12-10T01:51:37.890Z"
   },
   {
    "duration": 5899,
    "start_time": "2024-12-10T01:52:12.493Z"
   },
   {
    "duration": 586,
    "start_time": "2024-12-10T01:52:18.395Z"
   },
   {
    "duration": 51942,
    "start_time": "2024-12-10T01:52:18.982Z"
   },
   {
    "duration": 102970,
    "start_time": "2024-12-10T01:53:10.926Z"
   },
   {
    "duration": 437,
    "start_time": "2024-12-10T01:54:53.897Z"
   },
   {
    "duration": 134,
    "start_time": "2024-12-10T01:54:54.336Z"
   },
   {
    "duration": 10,
    "start_time": "2024-12-10T01:54:54.471Z"
   },
   {
    "duration": 21688,
    "start_time": "2024-12-10T01:54:54.483Z"
   },
   {
    "duration": 13,
    "start_time": "2024-12-10T01:55:16.173Z"
   },
   {
    "duration": 3,
    "start_time": "2024-12-10T01:55:16.189Z"
   },
   {
    "duration": 11,
    "start_time": "2024-12-10T01:55:16.193Z"
   },
   {
    "duration": 557,
    "start_time": "2024-12-10T01:55:16.206Z"
   },
   {
    "duration": 3,
    "start_time": "2024-12-10T01:57:58.691Z"
   },
   {
    "duration": 49,
    "start_time": "2024-12-10T01:59:10.840Z"
   },
   {
    "duration": 3,
    "start_time": "2024-12-10T02:00:12.569Z"
   },
   {
    "duration": 14,
    "start_time": "2024-12-10T02:00:33.337Z"
   },
   {
    "duration": 49,
    "start_time": "2024-12-10T02:01:10.642Z"
   },
   {
    "duration": 3,
    "start_time": "2024-12-10T02:01:31.193Z"
   },
   {
    "duration": 14,
    "start_time": "2024-12-10T02:01:45.046Z"
   },
   {
    "duration": 3,
    "start_time": "2024-12-10T02:01:49.505Z"
   },
   {
    "duration": 60,
    "start_time": "2024-12-10T02:02:27.170Z"
   }
  ],
  "kernelspec": {
   "display_name": "Python 3 (ipykernel)",
   "language": "python",
   "name": "python3"
  },
  "language_info": {
   "codemirror_mode": {
    "name": "ipython",
    "version": 3
   },
   "file_extension": ".py",
   "mimetype": "text/x-python",
   "name": "python",
   "nbconvert_exporter": "python",
   "pygments_lexer": "ipython3",
   "version": "3.9.19"
  },
  "toc": {
   "base_numbering": 1,
   "nav_menu": {},
   "number_sections": true,
   "sideBar": true,
   "skip_h1_title": true,
   "title_cell": "Table of Contents",
   "title_sidebar": "Contents",
   "toc_cell": false,
   "toc_position": {},
   "toc_section_display": true,
   "toc_window_display": false
  }
 },
 "nbformat": 4,
 "nbformat_minor": 2
}
